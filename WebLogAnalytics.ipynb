{
  "nbformat": 4,
  "nbformat_minor": 0,
  "metadata": {
    "colab": {
      "name": "WebLogAnalytics.ipynb",
      "provenance": [],
      "collapsed_sections": [],
      "toc_visible": true,
      "authorship_tag": "ABX9TyMiJO0S5dk8h6FkbjXlVk+y",
      "include_colab_link": true
    },
    "kernelspec": {
      "name": "python2",
      "display_name": "Python 2"
    }
  },
  "cells": [
    {
      "cell_type": "markdown",
      "metadata": {
        "id": "view-in-github",
        "colab_type": "text"
      },
      "source": [
        "<a href=\"https://colab.research.google.com/github/lakshayydua/WeblogChallenge/blob/master/WebLogAnalytics.ipynb\" target=\"_parent\"><img src=\"https://colab.research.google.com/assets/colab-badge.svg\" alt=\"Open In Colab\"/></a>"
      ]
    },
    {
      "cell_type": "markdown",
      "metadata": {
        "id": "tD3L4lGmSeYX",
        "colab_type": "text"
      },
      "source": [
        "WITH DICTIONARY"
      ]
    },
    {
      "cell_type": "code",
      "metadata": {
        "id": "OFDCBwA4v9oV",
        "colab_type": "code",
        "colab": {}
      },
      "source": [
        "# To set up Pyspark environment in Colab notebook\n",
        "!apt-get install openjdk-8-jdk-headless -qq > /dev/null\n",
        "!wget -q https://www-us.apache.org/dist/spark/spark-2.4.4/spark-2.4.4-bin-hadoop2.7.tgz\n",
        "!tar xf spark-2.4.4-bin-hadoop2.7.tgz\n",
        "!pip install -q findspark"
      ],
      "execution_count": 0,
      "outputs": []
    },
    {
      "cell_type": "code",
      "metadata": {
        "id": "C_YQ5sUb0Xzb",
        "colab_type": "code",
        "colab": {}
      },
      "source": [
        "import os\n",
        "import sys\n",
        "os.environ[\"JAVA_HOME\"] = \"/usr/lib/jvm/java-8-openjdk-amd64\"\n",
        "os.environ[\"SPARK_HOME\"] = \"/content/spark-2.4.4-bin-hadoop2.7\""
      ],
      "execution_count": 0,
      "outputs": []
    },
    {
      "cell_type": "code",
      "metadata": {
        "id": "ByqCoTmt0odl",
        "colab_type": "code",
        "colab": {}
      },
      "source": [
        "import findspark\n",
        "findspark.init()\n",
        "from pyspark.sql import SparkSession\n",
        "spark = SparkSession.builder.appName(\"WebLogAnalytics\").master(\"local[*]\").getOrCreate()"
      ],
      "execution_count": 0,
      "outputs": []
    },
    {
      "cell_type": "code",
      "metadata": {
        "id": "nYH1i8zS_4Yf",
        "colab_type": "code",
        "outputId": "099259f4-b033-48f4-c1a6-4177cb5cb216",
        "colab": {
          "base_uri": "https://localhost:8080/",
          "height": 88
        }
      },
      "source": [
        "# spark env configuration\n",
        "sc = spark.sparkContext\n",
        "print(\"LocalProperty: \", sc.getLocalProperty)\n",
        "print(\"defaultParallelism: \", sc.defaultParallelism)\n",
        "print(\"ExecutorMemoryStatus: \", sc._jsc.sc().getExecutorMemoryStatus().size())"
      ],
      "execution_count": 0,
      "outputs": [
        {
          "output_type": "stream",
          "text": [
            "('LocalProperty: ', <bound method SparkContext.getLocalProperty of <SparkContext master=local[*] appName=WebLogAnalytics>>)\n",
            "('defaultParallelism: ', 2)\n",
            "('ExecutorMemoryStatus: ', 1)\n"
          ],
          "name": "stdout"
        }
      ]
    },
    {
      "cell_type": "code",
      "metadata": {
        "id": "oXONPGJd3MK0",
        "colab_type": "code",
        "colab": {}
      },
      "source": [
        "from pyspark.sql import SparkSession, types, Window\n",
        "from pyspark.sql.functions import udf, pandas_udf, PandasUDFType\n",
        "from pyspark.sql.functions import split, explode, struct\n",
        "from datetime import datetime, date, timedelta\n",
        "import pandas as pd"
      ],
      "execution_count": 0,
      "outputs": []
    },
    {
      "cell_type": "code",
      "metadata": {
        "id": "4fQpKZsZ3Ngb",
        "colab_type": "code",
        "colab": {}
      },
      "source": [
        "# creating a pyspark.sql.dataframe.DataFrame object\n",
        "explicit_schema = types.StructType([\n",
        "    types.StructField(\"timestamp\", types.TimestampType(), True),\n",
        "    types.StructField(\"elb\", types.StringType(), True),\n",
        "    types.StructField(\"client_port\", types.StringType(), True),\n",
        "    types.StructField(\"backend_port\", types.StringType(), True),\n",
        "    types.StructField(\"request_processing_time\", types.DoubleType(), True),\n",
        "    types.StructField(\"backend_processing_time\", types.DoubleType(), True),\n",
        "    types.StructField(\"response_processing_time\", types.DoubleType(), True),\n",
        "    types.StructField(\"elb_status_code\", types.IntegerType(), True),\n",
        "    types.StructField(\"backend_status_code\", types.IntegerType(), True),\n",
        "    types.StructField(\"received_bytes\", types.DoubleType(), True),\n",
        "    types.StructField(\"sent_bytes\", types.DoubleType(), True),\n",
        "    types.StructField(\"request\", types.StringType(), True),\n",
        "    types.StructField(\"user_agent\", types.StringType(), True),\n",
        "    types.StructField(\"ssl_cipher\", types.StringType(), True),\n",
        "    types.StructField(\"ssl_protocol\", types.StringType(), True)\n",
        "])\n",
        "\n",
        "log_df = spark.read.format(\"csv\") \\\n",
        "              .schema(explicit_schema) \\\n",
        "              .option(\"header\", \"false\") \\\n",
        "              .option(\"delimiter\", \" \") \\\n",
        "              .load(\"/content/data/\")"
      ],
      "execution_count": 0,
      "outputs": []
    },
    {
      "cell_type": "code",
      "metadata": {
        "id": "FrP-6Iyu6_3c",
        "colab_type": "code",
        "outputId": "34c9040a-2970-4277-f0fc-6916641783d7",
        "colab": {
          "base_uri": "https://localhost:8080/",
          "height": 479
        }
      },
      "source": [
        "log_df.show()\n",
        "log_df.createOrReplaceTempView('log_df')"
      ],
      "execution_count": 0,
      "outputs": [
        {
          "output_type": "stream",
          "text": [
            "+--------------------+----------------+--------------------+-------------+-----------------------+-----------------------+------------------------+---------------+-------------------+--------------+----------+--------------------+--------------------+--------------------+------------+\n",
            "|           timestamp|             elb|         client_port| backend_port|request_processing_time|backend_processing_time|response_processing_time|elb_status_code|backend_status_code|received_bytes|sent_bytes|             request|          user_agent|          ssl_cipher|ssl_protocol|\n",
            "+--------------------+----------------+--------------------+-------------+-----------------------+-----------------------+------------------------+---------------+-------------------+--------------+----------+--------------------+--------------------+--------------------+------------+\n",
            "|2015-07-22 09:00:...|marketpalce-shop|123.242.248.130:5...|10.0.6.158:80|                 2.2E-5|               0.026109|                  2.0E-5|            200|                200|           0.0|     699.0|GET https://paytm...|Mozilla/5.0 (Wind...|ECDHE-RSA-AES128-...|     TLSv1.2|\n",
            "|2015-07-22 09:15:...|marketpalce-shop| 203.91.211.44:51402|10.0.4.150:80|                 2.4E-5|                0.15334|                  2.6E-5|            200|                200|           0.0|    1497.0|GET https://paytm...|Mozilla/5.0 (Wind...|ECDHE-RSA-AES128-...|     TLSv1.2|\n",
            "|2015-07-22 09:15:...|marketpalce-shop|   1.39.32.179:56419|10.0.4.244:80|                 2.4E-5|               0.164958|                  1.7E-5|            200|                200|           0.0|     157.0|GET https://paytm...|Mozilla/5.0 (Wind...|ECDHE-RSA-AES128-...|     TLSv1.2|\n",
            "|2015-07-22 09:01:...|marketpalce-shop|180.179.213.94:48725|10.0.6.108:80|                 2.0E-5|               0.002333|                  2.1E-5|            200|                200|           0.0|   35734.0|GET https://paytm...|                   -|ECDHE-RSA-AES128-...|     TLSv1.2|\n",
            "|2015-07-22 09:01:...|marketpalce-shop|120.59.192.208:13527|10.0.4.217:80|                 2.4E-5|               0.015091|                  1.6E-5|            200|                200|          68.0|     640.0|POST https://payt...|Mozilla/5.0 (Wind...|ECDHE-RSA-AES128-...|     TLSv1.2|\n",
            "|2015-07-22 09:01:...|marketpalce-shop|117.239.195.66:50524|10.0.6.195:80|                 2.4E-5|                0.02157|                  2.1E-5|            200|                200|           0.0|      60.0|GET https://paytm...|Mozilla/5.0 (Wind...|ECDHE-RSA-AES128-...|     TLSv1.2|\n",
            "|2015-07-22 09:01:...|marketpalce-shop| 101.60.186.26:33177|10.0.4.244:80|                 2.0E-5|               0.001098|                  2.2E-5|            200|                200|           0.0|    1150.0|GET https://paytm...|Mozilla/5.0 (Wind...|ECDHE-RSA-AES128-...|     TLSv1.2|\n",
            "|2015-07-22 09:01:...|marketpalce-shop|  59.183.41.47:62014|10.0.4.227:80|                 2.1E-5|               0.008161|                  2.1E-5|            200|                200|           0.0|      72.0|GET https://paytm...|Mozilla/5.0 (Wind...|ECDHE-RSA-AES128-...|     TLSv1.2|\n",
            "|2015-07-22 09:01:...|marketpalce-shop|117.239.195.66:50538|10.0.4.227:80|                 1.9E-5|               0.001035|                  2.1E-5|            200|                200|           0.0|     396.0|GET https://paytm...|Mozilla/5.0 (Wind...|ECDHE-RSA-AES128-...|     TLSv1.2|\n",
            "|2015-07-22 09:01:...|marketpalce-shop| 183.83.237.83:49687|10.0.6.108:80|                 2.3E-5|               0.008762|                  2.1E-5|            200|                200|           0.0|     214.0|GET https://paytm...|Mozilla/5.0 (Wind...|ECDHE-RSA-AES128-...|     TLSv1.2|\n",
            "|2015-07-22 09:01:...|marketpalce-shop| 117.195.91.36:25902|10.0.6.199:80|                 1.9E-5|               0.002359|                  2.2E-5|            200|                200|           0.0|   16744.0|GET https://paytm...|Mozilla/5.0 (Wind...|ECDHE-RSA-AES128-...|     TLSv1.2|\n",
            "|2015-07-22 09:01:...|marketpalce-shop|122.180.245.251:5...|10.0.6.108:80|                 2.2E-5|               0.003904|                  2.2E-5|            200|                200|           0.0|   14169.0|GET https://paytm...|Mozilla/5.0 (Wind...|ECDHE-RSA-AES128-...|     TLSv1.2|\n",
            "|2015-07-22 09:01:...|marketpalce-shop|117.198.215.20:53517|10.0.6.195:80|                 2.2E-5|               0.011078|                  1.5E-5|            200|                200|           0.0|    8334.0|GET https://paytm...|Mozilla/5.0 (Wind...|ECDHE-RSA-AES128-...|     TLSv1.2|\n",
            "|2015-07-22 09:01:...|marketpalce-shop|223.176.154.91:51582|10.0.6.108:80|                 2.2E-5|               0.001926|                  2.1E-5|            302|                302|           0.0|     534.0|GET https://paytm...|Mozilla/5.0 (Linu...|ECDHE-RSA-AES128-...|     TLSv1.2|\n",
            "|2015-07-22 09:00:...|marketpalce-shop|223.225.236.110:3...|10.0.4.176:80|                 2.5E-5|               0.069531|                  2.1E-5|            200|                200|         105.0|     532.0|POST https://payt...|Mozilla/5.0 (iPho...|ECDHE-RSA-AES128-...|     TLSv1.2|\n",
            "|2015-07-22 09:01:...|marketpalce-shop|117.241.97.140:51029|10.0.6.178:80|                 2.1E-5|               0.011796|                  1.5E-5|            200|                200|           0.0|     228.0|GET https://paytm...|Mozilla/5.0 (Wind...|ECDHE-RSA-AES128-...|     TLSv1.2|\n",
            "|2015-07-22 09:01:...|marketpalce-shop|117.205.247.140:5...|10.0.4.244:80|                 2.1E-5|               0.021522|                  2.1E-5|            449|                449|          97.0|     252.0|POST https://payt...|Mozilla/5.0 (Wind...|ECDHE-RSA-AES128-...|     TLSv1.2|\n",
            "|2015-07-22 09:01:...|marketpalce-shop|   14.102.53.58:4252|10.0.6.108:80|                 2.3E-5|               0.018186|                  1.5E-5|            406|                406|          71.0|     166.0|POST https://payt...|Mozilla/5.0 (Wind...|ECDHE-RSA-AES128-...|     TLSv1.2|\n",
            "|2015-07-22 09:01:...|marketpalce-shop| 203.200.99.67:41874|10.0.6.195:80|                 2.1E-5|               0.020869|                  2.0E-5|            200|                200|           0.0|     822.0|GET https://paytm...|Mozilla/5.0 (Wind...|ECDHE-RSA-AES128-...|     TLSv1.2|\n",
            "|2015-07-22 09:00:...|marketpalce-shop|107.167.109.204:3...|10.0.4.150:80|                 2.3E-5|               0.072252|                  2.1E-5|            302|                302|         189.0|      74.0|POST https://payt...|Opera/9.80 (Windo...|ECDHE-RSA-AES128-SHA|       TLSv1|\n",
            "+--------------------+----------------+--------------------+-------------+-----------------------+-----------------------+------------------------+---------------+-------------------+--------------+----------+--------------------+--------------------+--------------------+------------+\n",
            "only showing top 20 rows\n",
            "\n"
          ],
          "name": "stdout"
        }
      ]
    },
    {
      "cell_type": "markdown",
      "metadata": {
        "id": "YhtnaVDfUskH",
        "colab_type": "text"
      },
      "source": [
        "## **Processing & Analytical Goals**"
      ]
    },
    {
      "cell_type": "code",
      "metadata": {
        "id": "aZQe0mV8a5_x",
        "colab_type": "code",
        "outputId": "48c36334-c922-41c4-f6c7-6bb810dac89b",
        "colab": {
          "base_uri": "https://localhost:8080/",
          "height": 119
        }
      },
      "source": [
        "log_df_summary = spark.sql(\"\"\"\n",
        "        SELECT COUNT(client_port) total_records_count, \n",
        "        COUNT(DISTINCT CONCAT(client_port, '_', user_agent)) unique_visitor_count, \n",
        "        MIN(timestamp) min_timestamp, \n",
        "        MAX(timestamp) max_timestamp\n",
        "        FROM log_df\n",
        "        \"\"\")\n",
        "\n",
        "log_df_summary.show(truncate=False)"
      ],
      "execution_count": 0,
      "outputs": [
        {
          "output_type": "stream",
          "text": [
            "+-------------------+--------------------+-----------------------+-----------------------+\n",
            "|total_records_count|unique_visitor_count|min_timestamp          |max_timestamp          |\n",
            "+-------------------+--------------------+-----------------------+-----------------------+\n",
            "|1158500            |413200              |2015-07-22 02:40:16.121|2015-07-22 21:27:03.632|\n",
            "+-------------------+--------------------+-----------------------+-----------------------+\n",
            "\n"
          ],
          "name": "stdout"
        }
      ]
    },
    {
      "cell_type": "code",
      "metadata": {
        "id": "66Kj8sXWc3YS",
        "colab_type": "code",
        "outputId": "ee229443-d02c-414b-ae9e-2842f2cdf340",
        "colab": {
          "base_uri": "https://localhost:8080/",
          "height": 459
        }
      },
      "source": [
        "derived_df = spark.sql(\"\"\"\n",
        "                      SELECT CONCAT(client_port, '_', user_agent) visitor_id,\n",
        "                      request,\n",
        "                      timestamp\n",
        "                      FROM log_df\n",
        "                      \"\"\")\n",
        "\n",
        "derived_df = derived_df.repartition(\"visitor_id\").orderBy(\"timestamp\")\n",
        "derived_df.createOrReplaceTempView('derived_df')\n",
        "derived_df.show()"
      ],
      "execution_count": 0,
      "outputs": [
        {
          "output_type": "stream",
          "text": [
            "+--------------------+--------------------+--------------------+\n",
            "|          visitor_id|             request|           timestamp|\n",
            "+--------------------+--------------------+--------------------+\n",
            "|119.81.61.166:460...|GET https://paytm...|2015-07-22 02:40:...|\n",
            "|1.39.62.163:34315...|GET https://paytm...|2015-07-22 02:40:...|\n",
            "|1.39.60.241:50549...|GET https://paytm...|2015-07-22 02:40:...|\n",
            "|119.81.61.166:449...|GET https://paytm...|2015-07-22 02:40:...|\n",
            "|117.221.185.222:5...|GET https://paytm...|2015-07-22 02:40:...|\n",
            "|119.81.61.166:458...|GET https://paytm...|2015-07-22 02:40:...|\n",
            "|119.81.61.166:456...|GET https://paytm...|2015-07-22 02:40:...|\n",
            "|119.81.61.166:460...|GET https://paytm...|2015-07-22 02:40:...|\n",
            "|27.6.176.251:4950...|POST https://payt...|2015-07-22 02:40:...|\n",
            "|27.107.95.49:1266...|GET https://paytm...|2015-07-22 02:40:...|\n",
            "|182.71.61.18:3977...|GET https://paytm...|2015-07-22 02:40:...|\n",
            "|115.99.105.216:50...|GET https://paytm...|2015-07-22 02:40:...|\n",
            "|54.169.106.125:45...|GET https://paytm...|2015-07-22 02:40:...|\n",
            "|1.39.62.163:21192...|GET https://paytm...|2015-07-22 02:40:...|\n",
            "|54.169.77.128:351...|GET https://paytm...|2015-07-22 02:40:...|\n",
            "|70.39.187.224:248...|GET https://paytm...|2015-07-22 02:40:...|\n",
            "|45.118.197.213:57...|GET https://paytm...|2015-07-22 02:40:...|\n",
            "|203.11.131.82:280...|GET https://paytm...|2015-07-22 02:40:...|\n",
            "|46.4.28.81:58356_...|GET https://paytm...|2015-07-22 02:40:...|\n",
            "|202.142.81.245:63...|GET https://paytm...|2015-07-22 02:40:...|\n",
            "+--------------------+--------------------+--------------------+\n",
            "only showing top 20 rows\n",
            "\n"
          ],
          "name": "stdout"
        }
      ]
    },
    {
      "cell_type": "code",
      "metadata": {
        "id": "_dAo_XH3o-Z_",
        "colab_type": "code",
        "outputId": "6db441ef-ffe7-45f9-f9bb-cc3ac457f13b",
        "colab": {
          "base_uri": "https://localhost:8080/",
          "height": 459
        }
      },
      "source": [
        "visitor_min_timestamp = spark.sql(\"\"\"\n",
        "                                  SELECT visitor_id,\n",
        "                                  MIN(timestamp) last_session_timestamp\n",
        "                                  FROM derived_df\n",
        "                                  GROUP BY visitor_id\n",
        "                                  \"\"\")\n",
        "\n",
        "visitor_min_timestamp.show()"
      ],
      "execution_count": 0,
      "outputs": [
        {
          "output_type": "stream",
          "text": [
            "+--------------------+----------------------+\n",
            "|          visitor_id|last_session_timestamp|\n",
            "+--------------------+----------------------+\n",
            "|70.39.187.150:378...|  2015-07-22 02:40:...|\n",
            "|117.241.18.31:537...|  2015-07-22 02:41:...|\n",
            "|119.81.61.166:516...|  2015-07-22 02:41:...|\n",
            "|106.186.23.95:411...|  2015-07-22 02:41:...|\n",
            "|1.39.34.167:63679...|  2015-07-22 02:41:...|\n",
            "|54.169.0.163:4366...|  2015-07-22 02:42:...|\n",
            "|119.81.61.166:423...|  2015-07-22 02:42:...|\n",
            "|54.169.79.101:409...|  2015-07-22 02:42:...|\n",
            "|115.31.129.114:32...|  2015-07-22 02:42:...|\n",
            "|119.81.61.166:592...|  2015-07-22 02:42:...|\n",
            "|119.81.61.166:356...|  2015-07-22 02:43:...|\n",
            "|119.81.61.166:473...|  2015-07-22 02:43:...|\n",
            "|115.250.119.245:3...|  2015-07-22 02:44:...|\n",
            "|119.81.61.166:373...|  2015-07-22 02:44:...|\n",
            "|14.141.251.102:50...|  2015-07-22 02:45:...|\n",
            "|106.76.232.9:5988...|  2015-07-22 02:45:...|\n",
            "|1.39.40.16:4497_M...|  2015-07-22 02:45:...|\n",
            "|182.71.128.138:42...|  2015-07-22 02:45:...|\n",
            "|119.81.61.166:456...|  2015-07-22 02:45:...|\n",
            "|119.81.61.166:367...|  2015-07-22 02:46:...|\n",
            "+--------------------+----------------------+\n",
            "only showing top 20 rows\n",
            "\n"
          ],
          "name": "stdout"
        }
      ]
    },
    {
      "cell_type": "code",
      "metadata": {
        "id": "fO4SS_33Peqk",
        "colab_type": "code",
        "colab": {}
      },
      "source": [
        "visitor_min_timestamp_dict = visitor_min_timestamp  \\\n",
        "                                    .toPandas() \\\n",
        "                                    .set_index('visitor_id')['last_session_timestamp'] \\\n",
        "                                    .to_dict()"
      ],
      "execution_count": 0,
      "outputs": []
    },
    {
      "cell_type": "code",
      "metadata": {
        "id": "xBeuWYXbKG5r",
        "colab_type": "code",
        "colab": {}
      },
      "source": [
        "visitor_session_dict = {}\n",
        "\n",
        "for visitor_key in visitor_min_timestamp_dict.keys():\n",
        "  visitor_session_dict[visitor_key] = 0"
      ],
      "execution_count": 0,
      "outputs": []
    },
    {
      "cell_type": "code",
      "metadata": {
        "id": "T5T9oUR-E9jA",
        "colab_type": "code",
        "colab": {}
      },
      "source": [
        "# Inactivity threshold is set to 15 minutes or 15*60*1000 milliseconds\n",
        "THRESHOLD = 15*60*1000\n",
        "    \n",
        "def square_array_right(visitor_record):\n",
        "    visitor_id = visitor_record[0]\n",
        "    timestamp = visitor_record[1]\n",
        "\n",
        "    if timestamp > visitor_min_timestamp_dict[visitor_id] + timedelta(milliseconds=THRESHOLD):\n",
        "      visitor_session_dict[visitor_id] = visitor_session_dict[visitor_id] + 1\n",
        "    \n",
        "    visitor_min_timestamp_dict[visitor_id] = timestamp\n",
        "\n",
        "    return visitor_session_dict[visitor_id]\n",
        "\n",
        "spark_square_array_right = udf(square_array_right, types.IntegerType())"
      ],
      "execution_count": 0,
      "outputs": []
    },
    {
      "cell_type": "code",
      "metadata": {
        "id": "zVx1flVPEwlA",
        "colab_type": "code",
        "colab": {}
      },
      "source": [
        "zz = derived_df.withColumn('visitor_session_id', spark_square_array_right(struct('visitor_id','timestamp')))"
      ],
      "execution_count": 0,
      "outputs": []
    },
    {
      "cell_type": "code",
      "metadata": {
        "id": "bpvI1le7L0Ds",
        "colab_type": "code",
        "outputId": "060e7eae-78a2-492a-cb4f-40f91d5e31a4",
        "colab": {
          "base_uri": "https://localhost:8080/",
          "height": 459
        }
      },
      "source": [
        "zz.show()\n",
        "zz.createOrReplaceTempView(\"zz\")\n"
      ],
      "execution_count": 0,
      "outputs": [
        {
          "output_type": "stream",
          "text": [
            "+--------------------+--------------------+--------------------+------------------+\n",
            "|          visitor_id|             request|           timestamp|visitor_session_id|\n",
            "+--------------------+--------------------+--------------------+------------------+\n",
            "|119.81.61.166:460...|GET https://paytm...|2015-07-22 02:40:...|                 0|\n",
            "|1.39.62.163:34315...|GET https://paytm...|2015-07-22 02:40:...|                 0|\n",
            "|1.39.60.241:50549...|GET https://paytm...|2015-07-22 02:40:...|                 0|\n",
            "|119.81.61.166:449...|GET https://paytm...|2015-07-22 02:40:...|                 0|\n",
            "|117.221.185.222:5...|GET https://paytm...|2015-07-22 02:40:...|                 0|\n",
            "|119.81.61.166:458...|GET https://paytm...|2015-07-22 02:40:...|                 0|\n",
            "|119.81.61.166:456...|GET https://paytm...|2015-07-22 02:40:...|                 0|\n",
            "|119.81.61.166:460...|GET https://paytm...|2015-07-22 02:40:...|                 0|\n",
            "|27.6.176.251:4950...|POST https://payt...|2015-07-22 02:40:...|                 0|\n",
            "|27.107.95.49:1266...|GET https://paytm...|2015-07-22 02:40:...|                 0|\n",
            "|182.71.61.18:3977...|GET https://paytm...|2015-07-22 02:40:...|                 0|\n",
            "|115.99.105.216:50...|GET https://paytm...|2015-07-22 02:40:...|                 0|\n",
            "|54.169.106.125:45...|GET https://paytm...|2015-07-22 02:40:...|                 0|\n",
            "|1.39.62.163:21192...|GET https://paytm...|2015-07-22 02:40:...|                 0|\n",
            "|54.169.77.128:351...|GET https://paytm...|2015-07-22 02:40:...|                 0|\n",
            "|70.39.187.224:248...|GET https://paytm...|2015-07-22 02:40:...|                 0|\n",
            "|45.118.197.213:57...|GET https://paytm...|2015-07-22 02:40:...|                 0|\n",
            "|203.11.131.82:280...|GET https://paytm...|2015-07-22 02:40:...|                 0|\n",
            "|46.4.28.81:58356_...|GET https://paytm...|2015-07-22 02:40:...|                 0|\n",
            "|202.142.81.245:63...|GET https://paytm...|2015-07-22 02:40:...|                 0|\n",
            "+--------------------+--------------------+--------------------+------------------+\n",
            "only showing top 20 rows\n",
            "\n"
          ],
          "name": "stdout"
        }
      ]
    },
    {
      "cell_type": "code",
      "metadata": {
        "id": "E3i-haFwRpoj",
        "colab_type": "code",
        "outputId": "d45b01cc-0f03-4098-90ff-314cac1c5637",
        "colab": {
          "base_uri": "https://localhost:8080/",
          "height": 479
        }
      },
      "source": [
        "zz.orderBy(\"visitor_session_id\", ascending=False).show(truncate=False)"
      ],
      "execution_count": 0,
      "outputs": [
        {
          "output_type": "stream",
          "text": [
            "+----------------------------------------------------------------------------------------------------------------------------------+----------------------------------------------------------------------------------------------+-----------------------+------------------+\n",
            "|visitor_id                                                                                                                        |request                                                                                       |timestamp              |visitor_session_id|\n",
            "+----------------------------------------------------------------------------------------------------------------------------------+----------------------------------------------------------------------------------------------+-----------------------+------------------+\n",
            "|203.191.34.178:10400_Mozilla/5.0 (Windows NT 6.1; WOW64) AppleWebKit/537.36 (KHTML, like Gecko) Chrome/43.0.2357.134 Safari/537.36|GET https://paytm.com:443/shop/cart?channel=web&version=2 HTTP/1.1                            |2015-07-22 10:46:58.2  |6                 |\n",
            "|203.191.34.178:10400_Mozilla/5.0 (Windows NT 6.1; WOW64) AppleWebKit/537.36 (KHTML, like Gecko) Chrome/43.0.2357.134 Safari/537.36|GET https://paytm.com:443/ HTTP/1.1                                                           |2015-07-22 10:45:03.095|6                 |\n",
            "|203.191.34.178:10400_Mozilla/5.0 (Windows NT 6.1; WOW64) AppleWebKit/537.36 (KHTML, like Gecko) Chrome/43.0.2357.134 Safari/537.36|GET https://paytm.com:443/offer HTTP/1.1                                                      |2015-07-22 10:38:28.874|6                 |\n",
            "|203.191.34.178:10400_Mozilla/5.0 (Windows NT 6.1; WOW64) AppleWebKit/537.36 (KHTML, like Gecko) Chrome/43.0.2357.134 Safari/537.36|GET https://paytm.com:443/offer HTTP/1.1                                                      |2015-07-22 10:34:53.387|6                 |\n",
            "|203.191.34.178:10400_Mozilla/5.0 (Windows NT 6.1; WOW64) AppleWebKit/537.36 (KHTML, like Gecko) Chrome/43.0.2357.134 Safari/537.36|GET https://paytm.com:443/offer HTTP/1.1                                                      |2015-07-22 10:38:59.252|6                 |\n",
            "|203.191.34.178:10400_Mozilla/5.0 (Windows NT 6.1; WOW64) AppleWebKit/537.36 (KHTML, like Gecko) Chrome/43.0.2357.134 Safari/537.36|GET https://paytm.com:443/offer HTTP/1.1                                                      |2015-07-22 10:42:47.751|6                 |\n",
            "|203.191.34.178:10400_Mozilla/5.0 (Windows NT 6.1; WOW64) AppleWebKit/537.36 (KHTML, like Gecko) Chrome/43.0.2357.134 Safari/537.36|GET https://paytm.com:443/offer HTTP/1.1                                                      |2015-07-22 10:44:07.28 |6                 |\n",
            "|203.191.34.178:10400_Mozilla/5.0 (Windows NT 6.1; WOW64) AppleWebKit/537.36 (KHTML, like Gecko) Chrome/43.0.2357.134 Safari/537.36|GET https://paytm.com:443/offer HTTP/1.1                                                      |2015-07-22 10:39:54.883|6                 |\n",
            "|203.191.34.178:10400_Mozilla/5.0 (Windows NT 6.1; WOW64) AppleWebKit/537.36 (KHTML, like Gecko) Chrome/43.0.2357.134 Safari/537.36|GET https://paytm.com:443/offer HTTP/1.1                                                      |2015-07-22 10:38:33.101|6                 |\n",
            "|203.191.34.178:10400_Mozilla/5.0 (Windows NT 6.1; WOW64) AppleWebKit/537.36 (KHTML, like Gecko) Chrome/43.0.2357.134 Safari/537.36|GET https://paytm.com:443/offer HTTP/1.1                                                      |2015-07-22 10:46:17.733|6                 |\n",
            "|203.191.34.178:10400_Mozilla/5.0 (Windows NT 6.1; WOW64) AppleWebKit/537.36 (KHTML, like Gecko) Chrome/43.0.2357.134 Safari/537.36|GET https://paytm.com:443/offer HTTP/1.1                                                      |2015-07-22 10:41:50.206|6                 |\n",
            "|203.191.34.178:10400_Mozilla/5.0 (Windows NT 6.1; WOW64) AppleWebKit/537.36 (KHTML, like Gecko) Chrome/43.0.2357.134 Safari/537.36|GET https://paytm.com:443/offer HTTP/1.1                                                      |2015-07-22 10:42:57.108|6                 |\n",
            "|203.191.34.178:10400_Mozilla/5.0 (Windows NT 6.1; WOW64) AppleWebKit/537.36 (KHTML, like Gecko) Chrome/43.0.2357.134 Safari/537.36|GET https://paytm.com:443/offer HTTP/1.1                                                      |2015-07-22 10:45:05.601|6                 |\n",
            "|203.191.34.178:10400_Mozilla/5.0 (Windows NT 6.1; WOW64) AppleWebKit/537.36 (KHTML, like Gecko) Chrome/43.0.2357.134 Safari/537.36|GET https://paytm.com:443/offer HTTP/1.1                                                      |2015-07-22 10:40:27.936|6                 |\n",
            "|203.191.34.178:10400_Mozilla/5.0 (Windows NT 6.1; WOW64) AppleWebKit/537.36 (KHTML, like Gecko) Chrome/43.0.2357.134 Safari/537.36|GET https://paytm.com:443/offer HTTP/1.1                                                      |2015-07-22 10:40:42.62 |6                 |\n",
            "|203.191.34.178:10400_Mozilla/5.0 (Windows NT 6.1; WOW64) AppleWebKit/537.36 (KHTML, like Gecko) Chrome/43.0.2357.134 Safari/537.36|GET https://paytm.com:443/offer HTTP/1.1                                                      |2015-07-22 10:49:05.507|6                 |\n",
            "|203.191.34.178:10400_Mozilla/5.0 (Windows NT 6.1; WOW64) AppleWebKit/537.36 (KHTML, like Gecko) Chrome/43.0.2357.134 Safari/537.36|GET https://paytm.com:443/offer HTTP/1.1                                                      |2015-07-22 10:43:47.481|6                 |\n",
            "|203.191.34.178:10400_Mozilla/5.0 (Windows NT 6.1; WOW64) AppleWebKit/537.36 (KHTML, like Gecko) Chrome/43.0.2357.134 Safari/537.36|GET https://paytm.com:443/offer HTTP/1.1                                                      |2015-07-22 10:42:29.401|6                 |\n",
            "|203.191.34.178:10400_Mozilla/5.0 (Windows NT 6.1; WOW64) AppleWebKit/537.36 (KHTML, like Gecko) Chrome/43.0.2357.134 Safari/537.36|GET https://paytm.com:443/offer HTTP/1.1                                                      |2015-07-22 10:41:34.323|6                 |\n",
            "|203.191.34.178:10400_Mozilla/5.0 (Windows NT 6.1; WOW64) AppleWebKit/537.36 (KHTML, like Gecko) Chrome/43.0.2357.134 Safari/537.36|GET https://paytm.com:443/shop/authresponse?code=40313a2d-3f2b-4ecc-bf84-b0be5266a3a8 HTTP/1.1|2015-07-22 10:40:48.098|6                 |\n",
            "+----------------------------------------------------------------------------------------------------------------------------------+----------------------------------------------------------------------------------------------+-----------------------+------------------+\n",
            "only showing top 20 rows\n",
            "\n"
          ],
          "name": "stdout"
        }
      ]
    },
    {
      "cell_type": "code",
      "metadata": {
        "id": "KYQqpOTWMFdH",
        "colab_type": "code",
        "outputId": "c3252444-c8d5-48ab-f31f-35f43c7f8400",
        "colab": {
          "base_uri": "https://localhost:8080/",
          "height": 324
        }
      },
      "source": [
        "n = spark.sql(\"\"\"select visitor_id, count(*), max(visitor_session_id) from zz group by visitor_id\"\"\")\n",
        "n.show()"
      ],
      "execution_count": 0,
      "outputs": [
        {
          "output_type": "error",
          "ename": "KeyboardInterrupt",
          "evalue": "ignored",
          "traceback": [
            "\u001b[0;31m\u001b[0m",
            "\u001b[0;31mKeyboardInterrupt\u001b[0mTraceback (most recent call last)",
            "\u001b[0;32m<ipython-input-20-c2e2b50bca72>\u001b[0m in \u001b[0;36m<module>\u001b[0;34m()\u001b[0m\n\u001b[1;32m      1\u001b[0m \u001b[0mn\u001b[0m \u001b[0;34m=\u001b[0m \u001b[0mspark\u001b[0m\u001b[0;34m.\u001b[0m\u001b[0msql\u001b[0m\u001b[0;34m(\u001b[0m\u001b[0;34m\"\"\"select visitor_id, count(*), max(visitor_session_id) from zz group by visitor_id\"\"\"\u001b[0m\u001b[0;34m)\u001b[0m\u001b[0;34m\u001b[0m\u001b[0m\n\u001b[0;32m----> 2\u001b[0;31m \u001b[0mn\u001b[0m\u001b[0;34m.\u001b[0m\u001b[0mshow\u001b[0m\u001b[0;34m(\u001b[0m\u001b[0;34m)\u001b[0m\u001b[0;34m\u001b[0m\u001b[0m\n\u001b[0m",
            "\u001b[0;32m/content/spark-2.4.4-bin-hadoop2.7/python/pyspark/sql/dataframe.py\u001b[0m in \u001b[0;36mshow\u001b[0;34m(self, n, truncate, vertical)\u001b[0m\n\u001b[1;32m    378\u001b[0m         \"\"\"\n\u001b[1;32m    379\u001b[0m         \u001b[0;32mif\u001b[0m \u001b[0misinstance\u001b[0m\u001b[0;34m(\u001b[0m\u001b[0mtruncate\u001b[0m\u001b[0;34m,\u001b[0m \u001b[0mbool\u001b[0m\u001b[0;34m)\u001b[0m \u001b[0;32mand\u001b[0m \u001b[0mtruncate\u001b[0m\u001b[0;34m:\u001b[0m\u001b[0;34m\u001b[0m\u001b[0m\n\u001b[0;32m--> 380\u001b[0;31m             \u001b[0;32mprint\u001b[0m\u001b[0;34m(\u001b[0m\u001b[0mself\u001b[0m\u001b[0;34m.\u001b[0m\u001b[0m_jdf\u001b[0m\u001b[0;34m.\u001b[0m\u001b[0mshowString\u001b[0m\u001b[0;34m(\u001b[0m\u001b[0mn\u001b[0m\u001b[0;34m,\u001b[0m \u001b[0;36m20\u001b[0m\u001b[0;34m,\u001b[0m \u001b[0mvertical\u001b[0m\u001b[0;34m)\u001b[0m\u001b[0;34m)\u001b[0m\u001b[0;34m\u001b[0m\u001b[0m\n\u001b[0m\u001b[1;32m    381\u001b[0m         \u001b[0;32melse\u001b[0m\u001b[0;34m:\u001b[0m\u001b[0;34m\u001b[0m\u001b[0m\n\u001b[1;32m    382\u001b[0m             \u001b[0;32mprint\u001b[0m\u001b[0;34m(\u001b[0m\u001b[0mself\u001b[0m\u001b[0;34m.\u001b[0m\u001b[0m_jdf\u001b[0m\u001b[0;34m.\u001b[0m\u001b[0mshowString\u001b[0m\u001b[0;34m(\u001b[0m\u001b[0mn\u001b[0m\u001b[0;34m,\u001b[0m \u001b[0mint\u001b[0m\u001b[0;34m(\u001b[0m\u001b[0mtruncate\u001b[0m\u001b[0;34m)\u001b[0m\u001b[0;34m,\u001b[0m \u001b[0mvertical\u001b[0m\u001b[0;34m)\u001b[0m\u001b[0;34m)\u001b[0m\u001b[0;34m\u001b[0m\u001b[0m\n",
            "\u001b[0;32m/content/spark-2.4.4-bin-hadoop2.7/python/lib/py4j-0.10.7-src.zip/py4j/java_gateway.py\u001b[0m in \u001b[0;36m__call__\u001b[0;34m(self, *args)\u001b[0m\n\u001b[1;32m   1253\u001b[0m             \u001b[0mproto\u001b[0m\u001b[0;34m.\u001b[0m\u001b[0mEND_COMMAND_PART\u001b[0m\u001b[0;34m\u001b[0m\u001b[0m\n\u001b[1;32m   1254\u001b[0m \u001b[0;34m\u001b[0m\u001b[0m\n\u001b[0;32m-> 1255\u001b[0;31m         \u001b[0manswer\u001b[0m \u001b[0;34m=\u001b[0m \u001b[0mself\u001b[0m\u001b[0;34m.\u001b[0m\u001b[0mgateway_client\u001b[0m\u001b[0;34m.\u001b[0m\u001b[0msend_command\u001b[0m\u001b[0;34m(\u001b[0m\u001b[0mcommand\u001b[0m\u001b[0;34m)\u001b[0m\u001b[0;34m\u001b[0m\u001b[0m\n\u001b[0m\u001b[1;32m   1256\u001b[0m         return_value = get_return_value(\n\u001b[1;32m   1257\u001b[0m             answer, self.gateway_client, self.target_id, self.name)\n",
            "\u001b[0;32m/content/spark-2.4.4-bin-hadoop2.7/python/lib/py4j-0.10.7-src.zip/py4j/java_gateway.py\u001b[0m in \u001b[0;36msend_command\u001b[0;34m(self, command, retry, binary)\u001b[0m\n\u001b[1;32m    983\u001b[0m         \u001b[0mconnection\u001b[0m \u001b[0;34m=\u001b[0m \u001b[0mself\u001b[0m\u001b[0;34m.\u001b[0m\u001b[0m_get_connection\u001b[0m\u001b[0;34m(\u001b[0m\u001b[0;34m)\u001b[0m\u001b[0;34m\u001b[0m\u001b[0m\n\u001b[1;32m    984\u001b[0m         \u001b[0;32mtry\u001b[0m\u001b[0;34m:\u001b[0m\u001b[0;34m\u001b[0m\u001b[0m\n\u001b[0;32m--> 985\u001b[0;31m             \u001b[0mresponse\u001b[0m \u001b[0;34m=\u001b[0m \u001b[0mconnection\u001b[0m\u001b[0;34m.\u001b[0m\u001b[0msend_command\u001b[0m\u001b[0;34m(\u001b[0m\u001b[0mcommand\u001b[0m\u001b[0;34m)\u001b[0m\u001b[0;34m\u001b[0m\u001b[0m\n\u001b[0m\u001b[1;32m    986\u001b[0m             \u001b[0;32mif\u001b[0m \u001b[0mbinary\u001b[0m\u001b[0;34m:\u001b[0m\u001b[0;34m\u001b[0m\u001b[0m\n\u001b[1;32m    987\u001b[0m                 \u001b[0;32mreturn\u001b[0m \u001b[0mresponse\u001b[0m\u001b[0;34m,\u001b[0m \u001b[0mself\u001b[0m\u001b[0;34m.\u001b[0m\u001b[0m_create_connection_guard\u001b[0m\u001b[0;34m(\u001b[0m\u001b[0mconnection\u001b[0m\u001b[0;34m)\u001b[0m\u001b[0;34m\u001b[0m\u001b[0m\n",
            "\u001b[0;32m/content/spark-2.4.4-bin-hadoop2.7/python/lib/py4j-0.10.7-src.zip/py4j/java_gateway.py\u001b[0m in \u001b[0;36msend_command\u001b[0;34m(self, command)\u001b[0m\n\u001b[1;32m   1150\u001b[0m \u001b[0;34m\u001b[0m\u001b[0m\n\u001b[1;32m   1151\u001b[0m         \u001b[0;32mtry\u001b[0m\u001b[0;34m:\u001b[0m\u001b[0;34m\u001b[0m\u001b[0m\n\u001b[0;32m-> 1152\u001b[0;31m             \u001b[0manswer\u001b[0m \u001b[0;34m=\u001b[0m \u001b[0msmart_decode\u001b[0m\u001b[0;34m(\u001b[0m\u001b[0mself\u001b[0m\u001b[0;34m.\u001b[0m\u001b[0mstream\u001b[0m\u001b[0;34m.\u001b[0m\u001b[0mreadline\u001b[0m\u001b[0;34m(\u001b[0m\u001b[0;34m)\u001b[0m\u001b[0;34m[\u001b[0m\u001b[0;34m:\u001b[0m\u001b[0;34m-\u001b[0m\u001b[0;36m1\u001b[0m\u001b[0;34m]\u001b[0m\u001b[0;34m)\u001b[0m\u001b[0;34m\u001b[0m\u001b[0m\n\u001b[0m\u001b[1;32m   1153\u001b[0m             \u001b[0mlogger\u001b[0m\u001b[0;34m.\u001b[0m\u001b[0mdebug\u001b[0m\u001b[0;34m(\u001b[0m\u001b[0;34m\"Answer received: {0}\"\u001b[0m\u001b[0;34m.\u001b[0m\u001b[0mformat\u001b[0m\u001b[0;34m(\u001b[0m\u001b[0manswer\u001b[0m\u001b[0;34m)\u001b[0m\u001b[0;34m)\u001b[0m\u001b[0;34m\u001b[0m\u001b[0m\n\u001b[1;32m   1154\u001b[0m             \u001b[0;32mif\u001b[0m \u001b[0manswer\u001b[0m\u001b[0;34m.\u001b[0m\u001b[0mstartswith\u001b[0m\u001b[0;34m(\u001b[0m\u001b[0mproto\u001b[0m\u001b[0;34m.\u001b[0m\u001b[0mRETURN_MESSAGE\u001b[0m\u001b[0;34m)\u001b[0m\u001b[0;34m:\u001b[0m\u001b[0;34m\u001b[0m\u001b[0m\n",
            "\u001b[0;32m/usr/lib/python2.7/socket.pyc\u001b[0m in \u001b[0;36mreadline\u001b[0;34m(self, size)\u001b[0m\n\u001b[1;32m    449\u001b[0m             \u001b[0;32mwhile\u001b[0m \u001b[0mTrue\u001b[0m\u001b[0;34m:\u001b[0m\u001b[0;34m\u001b[0m\u001b[0m\n\u001b[1;32m    450\u001b[0m                 \u001b[0;32mtry\u001b[0m\u001b[0;34m:\u001b[0m\u001b[0;34m\u001b[0m\u001b[0m\n\u001b[0;32m--> 451\u001b[0;31m                     \u001b[0mdata\u001b[0m \u001b[0;34m=\u001b[0m \u001b[0mself\u001b[0m\u001b[0;34m.\u001b[0m\u001b[0m_sock\u001b[0m\u001b[0;34m.\u001b[0m\u001b[0mrecv\u001b[0m\u001b[0;34m(\u001b[0m\u001b[0mself\u001b[0m\u001b[0;34m.\u001b[0m\u001b[0m_rbufsize\u001b[0m\u001b[0;34m)\u001b[0m\u001b[0;34m\u001b[0m\u001b[0m\n\u001b[0m\u001b[1;32m    452\u001b[0m                 \u001b[0;32mexcept\u001b[0m \u001b[0merror\u001b[0m\u001b[0;34m,\u001b[0m \u001b[0me\u001b[0m\u001b[0;34m:\u001b[0m\u001b[0;34m\u001b[0m\u001b[0m\n\u001b[1;32m    453\u001b[0m                     \u001b[0;32mif\u001b[0m \u001b[0me\u001b[0m\u001b[0;34m.\u001b[0m\u001b[0margs\u001b[0m\u001b[0;34m[\u001b[0m\u001b[0;36m0\u001b[0m\u001b[0;34m]\u001b[0m \u001b[0;34m==\u001b[0m \u001b[0mEINTR\u001b[0m\u001b[0;34m:\u001b[0m\u001b[0;34m\u001b[0m\u001b[0m\n",
            "\u001b[0;31mKeyboardInterrupt\u001b[0m: "
          ]
        }
      ]
    },
    {
      "cell_type": "code",
      "metadata": {
        "id": "Y8hIDD9n7Bum",
        "colab_type": "code",
        "colab": {}
      },
      "source": [
        "# new_df = spark.sql(\"\"\"SELECT * \n",
        "#                       FROM agg_timestamp_df \n",
        "#                       WHERE unique_visitor = '119.81.61.166:45641_\"Mozilla/5.0 (Macintosh; Intel Mac OS X 10_7_3) AppleWebKit/534.55.3 (KHTML, like Gecko) Version/5.1.3 Safari/534.53.10\"'\n",
        "#                   \"\"\")\n",
        "\n",
        "# new_df.show(truncate=False)\n",
        "\n",
        "\n",
        "new_df = spark.sql(\"\"\"SELECT * \n",
        "                      FROM log_df \n",
        "                      WHERE request like '%,%'\n",
        "                  \"\"\")\n",
        "\n",
        "new_df.show(truncate=False)"
      ],
      "execution_count": 0,
      "outputs": []
    },
    {
      "cell_type": "code",
      "metadata": {
        "id": "dBOlekgAnH3O",
        "colab_type": "code",
        "colab": {}
      },
      "source": [
        "# Inactivity threshold is set to 15 minutes or 15*60*1000 milliseconds\n",
        "THRESHOLD = 15*60*1000\n",
        "\n",
        "pandas_udf(\"string\", PandasUDFType.SCALAR)\n",
        " \n",
        "def calculate_session_count_udf(visitor_timestamps):\n",
        "  \n",
        "  timestamp_list = visitor_timestamps\n",
        "\n",
        "  last_active = timestamp_list[0]\n",
        "  session_count = 1\n",
        "  \n",
        "  # early exit for a visitor with only one timestamp\n",
        "  if len(timestamp_list) == 1:\n",
        "    return session_count\n",
        "\n",
        "  for timestamp in timestamp_list[1:]:\n",
        "    if timestamp < last_active + timedelta(milliseconds=THRESHOLD):\n",
        "      last_active = timestamp\n",
        "    else:\n",
        "      last_active = timestamp\n",
        "      session_count = session_count + 1\n",
        "\n",
        "  return session_count\n",
        "    \n",
        "spark.udf.register(\"calculate_session_count\", calculate_session_count_udf)  \n",
        "\n",
        "result_df = spark.sql(\"\"\"SELECT visitor_id, timestamp_count, \n",
        "                         calculate_session_count(timestamp_list) visitor_session_count \n",
        "                         FROM agg_timestamp_df \n",
        "                         ORDER BY visitor_session_count DESC, timestamp_count DESC\n",
        "                         \"\"\")\n",
        "\n",
        "result_df.show(truncate=False)"
      ],
      "execution_count": 0,
      "outputs": []
    },
    {
      "cell_type": "markdown",
      "metadata": {
        "id": "oxTMeMiVU4Pt",
        "colab_type": "text"
      },
      "source": [
        "## **1. Sessionize the web log by IP. Sessionize = aggregrate all page hits by visitor/IP during a session**"
      ]
    },
    {
      "cell_type": "markdown",
      "metadata": {
        "id": "2Xvy03FIU4c3",
        "colab_type": "text"
      },
      "source": [
        "## **2. Determine the average session time**"
      ]
    },
    {
      "cell_type": "markdown",
      "metadata": {
        "id": "RC2QJ2XTU4n4",
        "colab_type": "text"
      },
      "source": [
        "## **3. Determine unique URL visits per session. To clarify, count a hit to a unique URL only once per session**"
      ]
    },
    {
      "cell_type": "markdown",
      "metadata": {
        "id": "jHXmLrPCVQQJ",
        "colab_type": "text"
      },
      "source": [
        "## **4. Find the most engaged users, ie the IPs with the longest session times**"
      ]
    },
    {
      "cell_type": "code",
      "metadata": {
        "id": "VDVPR33hVR9c",
        "colab_type": "code",
        "colab": {}
      },
      "source": [
        ""
      ],
      "execution_count": 0,
      "outputs": []
    }
  ]
}