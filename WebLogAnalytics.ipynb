{
  "nbformat": 4,
  "nbformat_minor": 0,
  "metadata": {
    "colab": {
      "name": "WebLogAnalytics.ipynb",
      "provenance": [],
      "collapsed_sections": [],
      "toc_visible": true,
      "authorship_tag": "ABX9TyMvElX1E/8wpaPZyGuTk1Jr",
      "include_colab_link": true
    },
    "kernelspec": {
      "name": "python2",
      "display_name": "Python 2"
    }
  },
  "cells": [
    {
      "cell_type": "markdown",
      "metadata": {
        "id": "view-in-github",
        "colab_type": "text"
      },
      "source": [
        "<a href=\"https://colab.research.google.com/github/lakshayydua/WeblogChallenge/blob/master/WebLogAnalytics.ipynb\" target=\"_parent\"><img src=\"https://colab.research.google.com/assets/colab-badge.svg\" alt=\"Open In Colab\"/></a>"
      ]
    },
    {
      "cell_type": "code",
      "metadata": {
        "id": "OFDCBwA4v9oV",
        "colab_type": "code",
        "colab": {}
      },
      "source": [
        "# To set up Pyspark environment in Colab notebook\n",
        "!apt-get install openjdk-8-jdk-headless -qq > /dev/null\n",
        "!wget -q https://www-us.apache.org/dist/spark/spark-2.4.4/spark-2.4.4-bin-hadoop2.7.tgz\n",
        "!tar xf spark-2.4.4-bin-hadoop2.7.tgz\n",
        "!pip install -q findspark"
      ],
      "execution_count": 0,
      "outputs": []
    },
    {
      "cell_type": "code",
      "metadata": {
        "id": "C_YQ5sUb0Xzb",
        "colab_type": "code",
        "colab": {}
      },
      "source": [
        "import os\n",
        "import sys\n",
        "os.environ[\"JAVA_HOME\"] = \"/usr/lib/jvm/java-8-openjdk-amd64\"\n",
        "os.environ[\"SPARK_HOME\"] = \"/content/spark-2.4.4-bin-hadoop2.7\""
      ],
      "execution_count": 0,
      "outputs": []
    },
    {
      "cell_type": "code",
      "metadata": {
        "id": "ByqCoTmt0odl",
        "colab_type": "code",
        "colab": {}
      },
      "source": [
        "import findspark\n",
        "findspark.init()\n",
        "from pyspark.sql import SparkSession\n",
        "spark = SparkSession.builder.appName(\"WebLogAnalytics\").master(\"local[*]\").getOrCreate()"
      ],
      "execution_count": 0,
      "outputs": []
    },
    {
      "cell_type": "code",
      "metadata": {
        "id": "nYH1i8zS_4Yf",
        "colab_type": "code",
        "outputId": "43a1dc4f-11f8-4a79-ff57-4df3c0a262c8",
        "colab": {
          "base_uri": "https://localhost:8080/",
          "height": 88
        }
      },
      "source": [
        "# spark env configuration\n",
        "sc = spark.sparkContext\n",
        "print(\"LocalProperty: \", sc.getLocalProperty)\n",
        "print(\"defaultParallelism: \", sc.defaultParallelism)\n",
        "print(\"ExecutorMemoryStatus: \", sc._jsc.sc().getExecutorMemoryStatus().size())"
      ],
      "execution_count": 4,
      "outputs": [
        {
          "output_type": "stream",
          "text": [
            "('LocalProperty: ', <bound method SparkContext.getLocalProperty of <SparkContext master=local[*] appName=WebLogAnalytics>>)\n",
            "('defaultParallelism: ', 2)\n",
            "('ExecutorMemoryStatus: ', 1)\n"
          ],
          "name": "stdout"
        }
      ]
    },
    {
      "cell_type": "code",
      "metadata": {
        "id": "oXONPGJd3MK0",
        "colab_type": "code",
        "colab": {}
      },
      "source": [
        "from pyspark.sql import SparkSession, types, Window\n",
        "from pyspark.sql.functions import udf, pandas_udf, PandasUDFType\n",
        "from pyspark.sql.functions import split, explode, struct, arrays_zip, col\n",
        "from datetime import datetime, date, timedelta"
      ],
      "execution_count": 0,
      "outputs": []
    },
    {
      "cell_type": "code",
      "metadata": {
        "id": "4fQpKZsZ3Ngb",
        "colab_type": "code",
        "colab": {}
      },
      "source": [
        "# creating a pyspark.sql.dataframe.DataFrame object\n",
        "explicit_schema = types.StructType([\n",
        "    types.StructField(\"timestamp\", types.TimestampType(), True),\n",
        "    types.StructField(\"elb\", types.StringType(), True),\n",
        "    types.StructField(\"client_port\", types.StringType(), True),\n",
        "    types.StructField(\"backend_port\", types.StringType(), True),\n",
        "    types.StructField(\"request_processing_time\", types.DoubleType(), True),\n",
        "    types.StructField(\"backend_processing_time\", types.DoubleType(), True),\n",
        "    types.StructField(\"response_processing_time\", types.DoubleType(), True),\n",
        "    types.StructField(\"elb_status_code\", types.IntegerType(), True),\n",
        "    types.StructField(\"backend_status_code\", types.IntegerType(), True),\n",
        "    types.StructField(\"received_bytes\", types.DoubleType(), True),\n",
        "    types.StructField(\"sent_bytes\", types.DoubleType(), True),\n",
        "    types.StructField(\"request\", types.StringType(), True),\n",
        "    types.StructField(\"user_agent\", types.StringType(), True),\n",
        "    types.StructField(\"ssl_cipher\", types.StringType(), True),\n",
        "    types.StructField(\"ssl_protocol\", types.StringType(), True)\n",
        "])\n",
        "\n",
        "log_df = spark.read.format(\"csv\") \\\n",
        "              .schema(explicit_schema) \\\n",
        "              .option(\"header\", \"false\") \\\n",
        "              .option(\"delimiter\", \" \") \\\n",
        "              .load(\"/content/data/\")"
      ],
      "execution_count": 0,
      "outputs": []
    },
    {
      "cell_type": "code",
      "metadata": {
        "id": "FrP-6Iyu6_3c",
        "colab_type": "code",
        "outputId": "1662a212-2d8d-4d63-ff20-9e724e8e044d",
        "colab": {
          "base_uri": "https://localhost:8080/",
          "height": 479
        }
      },
      "source": [
        "log_df.show()\n",
        "log_df.createOrReplaceTempView(\"log_df\")"
      ],
      "execution_count": 7,
      "outputs": [
        {
          "output_type": "stream",
          "text": [
            "+--------------------+----------------+--------------------+-------------+-----------------------+-----------------------+------------------------+---------------+-------------------+--------------+----------+--------------------+--------------------+--------------------+------------+\n",
            "|           timestamp|             elb|         client_port| backend_port|request_processing_time|backend_processing_time|response_processing_time|elb_status_code|backend_status_code|received_bytes|sent_bytes|             request|          user_agent|          ssl_cipher|ssl_protocol|\n",
            "+--------------------+----------------+--------------------+-------------+-----------------------+-----------------------+------------------------+---------------+-------------------+--------------+----------+--------------------+--------------------+--------------------+------------+\n",
            "|2015-07-22 09:00:...|marketpalce-shop|123.242.248.130:5...|10.0.6.158:80|                 2.2E-5|               0.026109|                  2.0E-5|            200|                200|           0.0|     699.0|GET https://paytm...|Mozilla/5.0 (Wind...|ECDHE-RSA-AES128-...|     TLSv1.2|\n",
            "|2015-07-22 09:15:...|marketpalce-shop| 203.91.211.44:51402|10.0.4.150:80|                 2.4E-5|                0.15334|                  2.6E-5|            200|                200|           0.0|    1497.0|GET https://paytm...|Mozilla/5.0 (Wind...|ECDHE-RSA-AES128-...|     TLSv1.2|\n",
            "|2015-07-22 09:15:...|marketpalce-shop|   1.39.32.179:56419|10.0.4.244:80|                 2.4E-5|               0.164958|                  1.7E-5|            200|                200|           0.0|     157.0|GET https://paytm...|Mozilla/5.0 (Wind...|ECDHE-RSA-AES128-...|     TLSv1.2|\n",
            "|2015-07-22 09:01:...|marketpalce-shop|180.179.213.94:48725|10.0.6.108:80|                 2.0E-5|               0.002333|                  2.1E-5|            200|                200|           0.0|   35734.0|GET https://paytm...|                   -|ECDHE-RSA-AES128-...|     TLSv1.2|\n",
            "|2015-07-22 09:01:...|marketpalce-shop|120.59.192.208:13527|10.0.4.217:80|                 2.4E-5|               0.015091|                  1.6E-5|            200|                200|          68.0|     640.0|POST https://payt...|Mozilla/5.0 (Wind...|ECDHE-RSA-AES128-...|     TLSv1.2|\n",
            "|2015-07-22 09:01:...|marketpalce-shop|117.239.195.66:50524|10.0.6.195:80|                 2.4E-5|                0.02157|                  2.1E-5|            200|                200|           0.0|      60.0|GET https://paytm...|Mozilla/5.0 (Wind...|ECDHE-RSA-AES128-...|     TLSv1.2|\n",
            "|2015-07-22 09:01:...|marketpalce-shop| 101.60.186.26:33177|10.0.4.244:80|                 2.0E-5|               0.001098|                  2.2E-5|            200|                200|           0.0|    1150.0|GET https://paytm...|Mozilla/5.0 (Wind...|ECDHE-RSA-AES128-...|     TLSv1.2|\n",
            "|2015-07-22 09:01:...|marketpalce-shop|  59.183.41.47:62014|10.0.4.227:80|                 2.1E-5|               0.008161|                  2.1E-5|            200|                200|           0.0|      72.0|GET https://paytm...|Mozilla/5.0 (Wind...|ECDHE-RSA-AES128-...|     TLSv1.2|\n",
            "|2015-07-22 09:01:...|marketpalce-shop|117.239.195.66:50538|10.0.4.227:80|                 1.9E-5|               0.001035|                  2.1E-5|            200|                200|           0.0|     396.0|GET https://paytm...|Mozilla/5.0 (Wind...|ECDHE-RSA-AES128-...|     TLSv1.2|\n",
            "|2015-07-22 09:01:...|marketpalce-shop| 183.83.237.83:49687|10.0.6.108:80|                 2.3E-5|               0.008762|                  2.1E-5|            200|                200|           0.0|     214.0|GET https://paytm...|Mozilla/5.0 (Wind...|ECDHE-RSA-AES128-...|     TLSv1.2|\n",
            "|2015-07-22 09:01:...|marketpalce-shop| 117.195.91.36:25902|10.0.6.199:80|                 1.9E-5|               0.002359|                  2.2E-5|            200|                200|           0.0|   16744.0|GET https://paytm...|Mozilla/5.0 (Wind...|ECDHE-RSA-AES128-...|     TLSv1.2|\n",
            "|2015-07-22 09:01:...|marketpalce-shop|122.180.245.251:5...|10.0.6.108:80|                 2.2E-5|               0.003904|                  2.2E-5|            200|                200|           0.0|   14169.0|GET https://paytm...|Mozilla/5.0 (Wind...|ECDHE-RSA-AES128-...|     TLSv1.2|\n",
            "|2015-07-22 09:01:...|marketpalce-shop|117.198.215.20:53517|10.0.6.195:80|                 2.2E-5|               0.011078|                  1.5E-5|            200|                200|           0.0|    8334.0|GET https://paytm...|Mozilla/5.0 (Wind...|ECDHE-RSA-AES128-...|     TLSv1.2|\n",
            "|2015-07-22 09:01:...|marketpalce-shop|223.176.154.91:51582|10.0.6.108:80|                 2.2E-5|               0.001926|                  2.1E-5|            302|                302|           0.0|     534.0|GET https://paytm...|Mozilla/5.0 (Linu...|ECDHE-RSA-AES128-...|     TLSv1.2|\n",
            "|2015-07-22 09:00:...|marketpalce-shop|223.225.236.110:3...|10.0.4.176:80|                 2.5E-5|               0.069531|                  2.1E-5|            200|                200|         105.0|     532.0|POST https://payt...|Mozilla/5.0 (iPho...|ECDHE-RSA-AES128-...|     TLSv1.2|\n",
            "|2015-07-22 09:01:...|marketpalce-shop|117.241.97.140:51029|10.0.6.178:80|                 2.1E-5|               0.011796|                  1.5E-5|            200|                200|           0.0|     228.0|GET https://paytm...|Mozilla/5.0 (Wind...|ECDHE-RSA-AES128-...|     TLSv1.2|\n",
            "|2015-07-22 09:01:...|marketpalce-shop|117.205.247.140:5...|10.0.4.244:80|                 2.1E-5|               0.021522|                  2.1E-5|            449|                449|          97.0|     252.0|POST https://payt...|Mozilla/5.0 (Wind...|ECDHE-RSA-AES128-...|     TLSv1.2|\n",
            "|2015-07-22 09:01:...|marketpalce-shop|   14.102.53.58:4252|10.0.6.108:80|                 2.3E-5|               0.018186|                  1.5E-5|            406|                406|          71.0|     166.0|POST https://payt...|Mozilla/5.0 (Wind...|ECDHE-RSA-AES128-...|     TLSv1.2|\n",
            "|2015-07-22 09:01:...|marketpalce-shop| 203.200.99.67:41874|10.0.6.195:80|                 2.1E-5|               0.020869|                  2.0E-5|            200|                200|           0.0|     822.0|GET https://paytm...|Mozilla/5.0 (Wind...|ECDHE-RSA-AES128-...|     TLSv1.2|\n",
            "|2015-07-22 09:00:...|marketpalce-shop|107.167.109.204:3...|10.0.4.150:80|                 2.3E-5|               0.072252|                  2.1E-5|            302|                302|         189.0|      74.0|POST https://payt...|Opera/9.80 (Windo...|ECDHE-RSA-AES128-SHA|       TLSv1|\n",
            "+--------------------+----------------+--------------------+-------------+-----------------------+-----------------------+------------------------+---------------+-------------------+--------------+----------+--------------------+--------------------+--------------------+------------+\n",
            "only showing top 20 rows\n",
            "\n"
          ],
          "name": "stdout"
        }
      ]
    },
    {
      "cell_type": "markdown",
      "metadata": {
        "id": "YhtnaVDfUskH",
        "colab_type": "text"
      },
      "source": [
        "## **Processing & Analytical Goals**"
      ]
    },
    {
      "cell_type": "markdown",
      "metadata": {
        "id": "Vz0QMRlfMZ7b",
        "colab_type": "text"
      },
      "source": [
        "To uniquely identify a client or user, a derived field named \"visitor_id\" has been utilized. \n",
        "\n",
        "\n",
        "> visitor_id is derived from following fields present in the log file:\n",
        "\n",
        "1.   client_port\n",
        "2.   user_agent\n",
        "\n"
      ]
    },
    {
      "cell_type": "code",
      "metadata": {
        "id": "aZQe0mV8a5_x",
        "colab_type": "code",
        "outputId": "5cdf8f80-6c1c-4671-a9ba-3f0e8c30e016",
        "colab": {
          "base_uri": "https://localhost:8080/",
          "height": 119
        }
      },
      "source": [
        "log_df_summary = spark.sql(\"\"\"\n",
        "                            SELECT COUNT(client_port) total_records_count, \n",
        "                            COUNT(DISTINCT CONCAT(client_port, '_', user_agent)) \n",
        "                            unique_visitor_count, \n",
        "                            MIN(timestamp) min_timestamp, \n",
        "                            MAX(timestamp) max_timestamp\n",
        "                            FROM log_df\n",
        "                            \"\"\")\n",
        "\n",
        "log_df_summary.show(truncate=False)"
      ],
      "execution_count": 8,
      "outputs": [
        {
          "output_type": "stream",
          "text": [
            "+-------------------+--------------------+-----------------------+-----------------------+\n",
            "|total_records_count|unique_visitor_count|min_timestamp          |max_timestamp          |\n",
            "+-------------------+--------------------+-----------------------+-----------------------+\n",
            "|1158500            |413200              |2015-07-22 02:40:16.121|2015-07-22 21:27:03.632|\n",
            "+-------------------+--------------------+-----------------------+-----------------------+\n",
            "\n"
          ],
          "name": "stdout"
        }
      ]
    },
    {
      "cell_type": "code",
      "metadata": {
        "id": "66Kj8sXWc3YS",
        "colab_type": "code",
        "outputId": "b08321b9-0ba6-4104-e3e5-0826127519a9",
        "colab": {
          "base_uri": "https://localhost:8080/",
          "height": 459
        }
      },
      "source": [
        "derived_df = spark.sql(\"\"\"\n",
        "                      SELECT CONCAT(client_port, '_', user_agent) visitor_id,\n",
        "                      request,\n",
        "                      timestamp\n",
        "                      FROM log_df\n",
        "                      \"\"\")\n",
        "\n",
        "# repartition on visitor_id to speed up aggregation\n",
        "# order by increasing order of timestamps required by sessionizing algorithm\n",
        "derived_df = derived_df.repartition(\"visitor_id\").orderBy(\"timestamp\")\n",
        "derived_df.createOrReplaceTempView(\"derived_df\")\n",
        "derived_df.show()"
      ],
      "execution_count": 9,
      "outputs": [
        {
          "output_type": "stream",
          "text": [
            "+--------------------+--------------------+--------------------+\n",
            "|          visitor_id|             request|           timestamp|\n",
            "+--------------------+--------------------+--------------------+\n",
            "|119.81.61.166:460...|GET https://paytm...|2015-07-22 02:40:...|\n",
            "|1.39.62.163:34315...|GET https://paytm...|2015-07-22 02:40:...|\n",
            "|1.39.60.241:50549...|GET https://paytm...|2015-07-22 02:40:...|\n",
            "|119.81.61.166:449...|GET https://paytm...|2015-07-22 02:40:...|\n",
            "|117.221.185.222:5...|GET https://paytm...|2015-07-22 02:40:...|\n",
            "|119.81.61.166:458...|GET https://paytm...|2015-07-22 02:40:...|\n",
            "|119.81.61.166:456...|GET https://paytm...|2015-07-22 02:40:...|\n",
            "|119.81.61.166:460...|GET https://paytm...|2015-07-22 02:40:...|\n",
            "|27.6.176.251:4950...|POST https://payt...|2015-07-22 02:40:...|\n",
            "|27.107.95.49:1266...|GET https://paytm...|2015-07-22 02:40:...|\n",
            "|182.71.61.18:3977...|GET https://paytm...|2015-07-22 02:40:...|\n",
            "|115.99.105.216:50...|GET https://paytm...|2015-07-22 02:40:...|\n",
            "|54.169.106.125:45...|GET https://paytm...|2015-07-22 02:40:...|\n",
            "|1.39.62.163:21192...|GET https://paytm...|2015-07-22 02:40:...|\n",
            "|54.169.77.128:351...|GET https://paytm...|2015-07-22 02:40:...|\n",
            "|70.39.187.224:248...|GET https://paytm...|2015-07-22 02:40:...|\n",
            "|45.118.197.213:57...|GET https://paytm...|2015-07-22 02:40:...|\n",
            "|203.11.131.82:280...|GET https://paytm...|2015-07-22 02:40:...|\n",
            "|46.4.28.81:58356_...|GET https://paytm...|2015-07-22 02:40:...|\n",
            "|202.142.81.245:63...|GET https://paytm...|2015-07-22 02:40:...|\n",
            "+--------------------+--------------------+--------------------+\n",
            "only showing top 20 rows\n",
            "\n"
          ],
          "name": "stdout"
        }
      ]
    },
    {
      "cell_type": "code",
      "metadata": {
        "id": "_dAo_XH3o-Z_",
        "colab_type": "code",
        "outputId": "08e65d57-1d73-4a87-eda2-369b486e68f6",
        "colab": {
          "base_uri": "https://localhost:8080/",
          "height": 479
        }
      },
      "source": [
        "# aggregating requests and timestamp data for every visitor_id\n",
        "agg_timestamp_df = spark.sql(\"\"\"\n",
        "                        SELECT visitor_id,\n",
        "                        COLLECT_LIST(request) request_list,\n",
        "                        COLLECT_LIST(timestamp) timestamp_list,\n",
        "                        COUNT(*) timestamp_count\n",
        "                        FROM derived_df\n",
        "                        GROUP BY visitor_id\n",
        "                        \"\"\")\n",
        "\n",
        "agg_timestamp_df.show(truncate=False)\n",
        "agg_timestamp_df.createOrReplaceTempView(\"agg_timestamp_df\")"
      ],
      "execution_count": 10,
      "outputs": [
        {
          "output_type": "stream",
          "text": [
            "+-------------------------------------------------------------------------------------------------------------------------------------------------------------------------+--------------------------------------------------------------------------------------------------------------------------------------------------------------------------------------------------------------------------------------------------------------------------------------------------------------------------------------------------------------------------------------------------------------------------------------------------------------------------------------------------------------------------------------------------------------------------------------------------------------------------------------------------------------------------------------------------------------------------------------------------------------------------------------------------------------------------------------------------------------------------------------------------------------------------------------------------------------------------------------------------------------------------------------------------------------------------------------------------------------------------------------------------------------------------------------------------------------------------------------------------------------------------------------------------------------------------------------------------------------------------------------------------------------------------------------------------------------------------------------------------------------------------------------------------------------------------------------------------------------------------------------------------------------------------------------------------------------------------------------------------------------------------------------------------------------------------------------------------------------------------------------------------------------------------------------------------------------------------------------------------------------------------------------------------------------------------------------------------------------------------------------------------------------------------------------------------------------------------------------------------------------------------------------------------------------------------------------------------------------------------------------------------------------------------------------------------------------------------------------------------------------------------------------------------------------------------------------------------------------------------------------------------------------------------------------------------------------------------------------------------------------------------------------------------------------------------------------------------------------------------------------------------------------------------------------------------------------------------------------------------------+-------------------------------------------------------------------------------------------------------------------------------------------------------------------------------------------------------------------------------------------------------------------------------------------------------------------------------------------------------------------------------------------------------------------------------------------------------------------------------------------------------------------------------------------------------------------------------------------------------------------------------------------------------------------------------------------------------------------------------------------------------------------------------------------------------------------------------------------------------------------------------+---------------+\n",
            "|visitor_id                                                                                                                                                               |request_list                                                                                                                                                                                                                                                                                                                                                                                                                                                                                                                                                                                                                                                                                                                                                                                                                                                                                                                                                                                                                                                                                                                                                                                                                                                                                                                                                                                                                                                                                                                                                                                                                                                                                                                                                                                                                                                                                                                                                                                                                                                                                                                                                                                                                                                                                                                                                                                                                                                                                                                                                                                                                                                                                                                                                                                                                                                                                                                                                                                            |timestamp_list                                                                                                                                                                                                                                                                                                                                                                                                                                                                                                                                                                                                                                                                                                                                                                                                                                                                 |timestamp_count|\n",
            "+-------------------------------------------------------------------------------------------------------------------------------------------------------------------------+--------------------------------------------------------------------------------------------------------------------------------------------------------------------------------------------------------------------------------------------------------------------------------------------------------------------------------------------------------------------------------------------------------------------------------------------------------------------------------------------------------------------------------------------------------------------------------------------------------------------------------------------------------------------------------------------------------------------------------------------------------------------------------------------------------------------------------------------------------------------------------------------------------------------------------------------------------------------------------------------------------------------------------------------------------------------------------------------------------------------------------------------------------------------------------------------------------------------------------------------------------------------------------------------------------------------------------------------------------------------------------------------------------------------------------------------------------------------------------------------------------------------------------------------------------------------------------------------------------------------------------------------------------------------------------------------------------------------------------------------------------------------------------------------------------------------------------------------------------------------------------------------------------------------------------------------------------------------------------------------------------------------------------------------------------------------------------------------------------------------------------------------------------------------------------------------------------------------------------------------------------------------------------------------------------------------------------------------------------------------------------------------------------------------------------------------------------------------------------------------------------------------------------------------------------------------------------------------------------------------------------------------------------------------------------------------------------------------------------------------------------------------------------------------------------------------------------------------------------------------------------------------------------------------------------------------------------------------------------------------------------+-------------------------------------------------------------------------------------------------------------------------------------------------------------------------------------------------------------------------------------------------------------------------------------------------------------------------------------------------------------------------------------------------------------------------------------------------------------------------------------------------------------------------------------------------------------------------------------------------------------------------------------------------------------------------------------------------------------------------------------------------------------------------------------------------------------------------------------------------------------------------------+---------------+\n",
            "|1.186.41.3:1650_Mozilla/5.0 (Windows NT 6.1; WOW64) AppleWebKit/537.36 (KHTML, like Gecko) Chrome/43.0.2357.134 Safari/537.36                                            |[GET https://paytm.com:443/papi/v1/promosearch/product/16354295/offers?parent_id=16354296&price=699&channel=web&version=2 HTTP/1.1, GET https://paytm.com:443/papi/rr/products/16354295/statistics?channel=web&version=2 HTTP/1.1, GET https://paytm.com:443/papi/nps/merchantrating?merchant_id=55256&channel=web&version=2 HTTP/1.1, GET https://paytm.com:443/papi/rr/products/14095243/statistics?channel=web&version=2 HTTP/1.1, GET https://paytm.com:443/papi/nps/merchantrating?merchant_id=51315&channel=web&version=2 HTTP/1.1]                                                                                                                                                                                                                                                                                                                                                                                                                                                                                                                                                                                                                                                                                                                                                                                                                                                                                                                                                                                                                                                                                                                                                                                                                                                                                                                                                                                                                                                                                                                                                                                                                                                                                                                                                                                                                                                                                                                                                                                                                                                                                                                                                                                                                                                                                                                                                                                                                                                               |[2015-07-22 16:15:02.24, 2015-07-22 16:18:19.939, 2015-07-22 16:24:08.342, 2015-07-22 16:27:28.866, 2015-07-22 16:28:19.124]                                                                                                                                                                                                                                                                                                                                                                                                                                                                                                                                                                                                                                                                                                                                                   |5              |\n",
            "|1.186.41.45:50142_Mozilla/5.0 (compatible; MSIE 9.0; Windows NT 6.1; Trident/5.0)                                                                                        |[GET https://paytm.com:443/scripts/paytmAd.js HTTP/1.1]                                                                                                                                                                                                                                                                                                                                                                                                                                                                                                                                                                                                                                                                                                                                                                                                                                                                                                                                                                                                                                                                                                                                                                                                                                                                                                                                                                                                                                                                                                                                                                                                                                                                                                                                                                                                                                                                                                                                                                                                                                                                                                                                                                                                                                                                                                                                                                                                                                                                                                                                                                                                                                                                                                                                                                                                                                                                                                                                                 |[2015-07-22 16:47:05.947]                                                                                                                                                                                                                                                                                                                                                                                                                                                                                                                                                                                                                                                                                                                                                                                                                                                      |1              |\n",
            "|1.186.79.11:50014_Mozilla/5.0 (Windows NT 6.3; WOW64) AppleWebKit/537.36 (KHTML, like Gecko) Chrome/44.0.2403.89 Safari/537.36                                           |[GET https://paytm.com:443/offer/wp-includes/js/jquery/jquery.masonry.min.js?ver=3.1.2 HTTP/1.1, GET https://paytm.com:443/offer/wp-content/plugins/wp-responsive-slider-with-lightbox/js/l-box-js.js?ver=4.2.2 HTTP/1.1, GET https://paytm.com:443/offer/wp-includes/js/jquery/ui/resizable.min.js?ver=1.11.4 HTTP/1.1, GET https://paytm.com:443/offer/wp-content/plugins/wp-social-sharing/static/socialshare.js?ver=1.3 HTTP/1.1, GET https://paytm.com:443/offer/wp-content/plugins/image-slider-responsive/css/flexslider.css?ver=4.2.2 HTTP/1.1, GET https://paytm.com:443/offer/wp-content/plugins/image-slider-responsive/js/jquery.flexslider-min.js?ver=4.2.2 HTTP/1.1, GET https://paytm.com:443/offer/irctc/ HTTP/1.1, GET https://paytm.com:443/offer/wp-content/plugins/owl-carousel/js/script.js?ver=4.2.2 HTTP/1.1]                                                                                                                                                                                                                                                                                                                                                                                                                                                                                                                                                                                                                                                                                                                                                                                                                                                                                                                                                                                                                                                                                                                                                                                                                                                                                                                                                                                                                                                                                                                                                                                                                                                                                                                                                                                                                                                                                                                                                                                                                                                                                                                                                                    |[2015-07-22 16:12:57.015, 2015-07-22 16:14:29.985, 2015-07-22 16:17:30.064, 2015-07-22 16:18:49.133, 2015-07-22 16:18:57.714, 2015-07-22 16:19:01.425, 2015-07-22 16:25:53.234, 2015-07-22 16:28:05.441]                                                                                                                                                                                                                                                                                                                                                                                                                                                                                                                                                                                                                                                                       |8              |\n",
            "|1.187.123.63:60764_Mozilla/5.0 (Linux; Android 4.4.2; Micromax A311 Build/KOT49H) AppleWebKit/537.36 (KHTML, like Gecko) Version/4.0 Chrome/30.0.0.0 Mobile Safari/537.36|[GET https://paytm.com:443/favicon.ico HTTP/1.1]                                                                                                                                                                                                                                                                                                                                                                                                                                                                                                                                                                                                                                                                                                                                                                                                                                                                                                                                                                                                                                                                                                                                                                                                                                                                                                                                                                                                                                                                                                                                                                                                                                                                                                                                                                                                                                                                                                                                                                                                                                                                                                                                                                                                                                                                                                                                                                                                                                                                                                                                                                                                                                                                                                                                                                                                                                                                                                                                                        |[2015-07-22 07:10:46.094]                                                                                                                                                                                                                                                                                                                                                                                                                                                                                                                                                                                                                                                                                                                                                                                                                                                      |1              |\n",
            "|1.187.163.231:5119_Mozilla/5.0 (Windows NT 6.0; WOW64) AppleWebKit/537.36 (KHTML, like Gecko) Chrome/43.0.2357.134 Safari/537.36                                         |[GET https://paytm.com:443/papi/nps/merchantrating?merchant_id=23206&channel=web&version=2 HTTP/1.1]                                                                                                                                                                                                                                                                                                                                                                                                                                                                                                                                                                                                                                                                                                                                                                                                                                                                                                                                                                                                                                                                                                                                                                                                                                                                                                                                                                                                                                                                                                                                                                                                                                                                                                                                                                                                                                                                                                                                                                                                                                                                                                                                                                                                                                                                                                                                                                                                                                                                                                                                                                                                                                                                                                                                                                                                                                                                                                    |[2015-07-22 09:05:10.052]                                                                                                                                                                                                                                                                                                                                                                                                                                                                                                                                                                                                                                                                                                                                                                                                                                                      |1              |\n",
            "|1.187.209.36:51108_Mozilla/5.0 (Windows NT 6.1) AppleWebKit/537.36 (KHTML, like Gecko) Chrome/43.0.2357.81 Safari/537.36                                                 |[GET https://paytm.com:443/shop/summary/1116226048 HTTP/1.1, GET https://paytm.com:443/shop/wallet/balance?channel=web&version=2 HTTP/1.1, GET https://paytm.com:443/shop/v1/frequentorders?channel=web&version=2 HTTP/1.1, POST https://paytm.com:443/shop/action HTTP/1.1, POST https://paytm.com:443/api/v1/expresscart/checkout?wallet=1&withdraw=1 HTTP/1.1, GET https://paytm.com:443/shop/cart?channel=web&version=2 HTTP/1.1, POST https://paytm.com:443/api/v1/expresscart/checkout?wallet=1&withdraw=1 HTTP/1.1, GET https://paytm.com:443/shop/summary/1116233116 HTTP/1.1, GET https://paytm.com:443/shop/orderdetail/1116238387?channel=web&version=2 HTTP/1.1, GET https://paytm.com:443/shop/orderhistory?pagesize=10&channel=web&version=2 HTTP/1.1, GET https://paytm.com:443/shop/orderhistory?before_id=1116105871&pagesize=10&channel=web&version=2 HTTP/1.1, GET https://paytm.com:443/shop/cart?channel=web&version=2 HTTP/1.1, GET https://paytm.com:443/shop/cart?channel=web&version=2 HTTP/1.1, GET https://paytm.com:443/shop/orderdetail/1116233116?channel=web&version=2 HTTP/1.1, POST https://paytm.com:443/papi/v1/expresscart/verify HTTP/1.1, GET https://paytm.com:443/shop/wallet/balance?channel=web&version=2 HTTP/1.1, GET https://paytm.com:443/shop/summary/1116238387 HTTP/1.1, GET https://paytm.com:443/shop/orderdetail/1116226048?channel=web&version=2 HTTP/1.1, POST https://paytm.com:443/papi/v1/expresscart/verify HTTP/1.1, GET https://paytm.com:443/shop/wallet/balance?channel=web&version=2 HTTP/1.1, POST https://paytm.com:443/shop/action HTTP/1.1, GET https://paytm.com:443/shop/v1/frequentorders?channel=web&version=2 HTTP/1.1]                                                                                                                                                                                                                                                                                                                                                                                                                                                                                                                                                                                                                                                                                                                                                                                                                                                                                                                                                                                                                                                                                                                                                                                                                                                                                                         |[2015-07-22 09:03:17.232, 2015-07-22 09:03:19.76, 2015-07-22 09:04:40.194, 2015-07-22 09:05:02.119, 2015-07-22 09:05:12.89, 2015-07-22 09:05:59.276, 2015-07-22 09:07:14.977, 2015-07-22 09:07:39.768, 2015-07-22 09:09:21.019, 2015-07-22 09:10:49.575, 2015-07-22 09:11:26.933, 2015-07-22 09:10:43.217, 2015-07-22 09:11:55.948, 2015-07-22 09:13:32.597, 2015-07-22 09:13:58.55, 2015-07-22 09:14:43.59, 2015-07-22 09:15:07.759, 2015-07-22 09:15:44.135, 2015-07-22 09:16:42.063, 2015-07-22 09:17:30.625, 2015-07-22 09:18:32.634, 2015-07-22 09:19:10.965]                                                                                                                                                                                                                                                                                                             |22             |\n",
            "|1.187.210.163:21286_Mozilla/5.0 (Windows NT 6.1; rv:39.0) Gecko/20100101 Firefox/39.0                                                                                    |[GET https://paytm.com:443/shop/wallet/balance?channel=web&version=2 HTTP/1.1]                                                                                                                                                                                                                                                                                                                                                                                                                                                                                                                                                                                                                                                                                                                                                                                                                                                                                                                                                                                                                                                                                                                                                                                                                                                                                                                                                                                                                                                                                                                                                                                                                                                                                                                                                                                                                                                                                                                                                                                                                                                                                                                                                                                                                                                                                                                                                                                                                                                                                                                                                                                                                                                                                                                                                                                                                                                                                                                          |[2015-07-22 16:55:23.102]                                                                                                                                                                                                                                                                                                                                                                                                                                                                                                                                                                                                                                                                                                                                                                                                                                                      |1              |\n",
            "|1.187.239.249:47821_NokiaX2-00/5.0 (04.80) Profile/MIDP-2.1 Configuration/CLDC-1.1 Mozilla/5.0 AppleWebKit/420+ (KHTML, like Gecko) Safari/420+                          |[GET http://paytm.com:80/terms HTTP/1.1]                                                                                                                                                                                                                                                                                                                                                                                                                                                                                                                                                                                                                                                                                                                                                                                                                                                                                                                                                                                                                                                                                                                                                                                                                                                                                                                                                                                                                                                                                                                                                                                                                                                                                                                                                                                                                                                                                                                                                                                                                                                                                                                                                                                                                                                                                                                                                                                                                                                                                                                                                                                                                                                                                                                                                                                                                                                                                                                                                                |[2015-07-22 10:46:09.867]                                                                                                                                                                                                                                                                                                                                                                                                                                                                                                                                                                                                                                                                                                                                                                                                                                                      |1              |\n",
            "|1.22.112.17:26923_Mozilla/5.0 (Windows NT 6.3; WOW64) AppleWebKit/537.36 (KHTML, like Gecko) Chrome/43.0.2357.134 Safari/537.36                                          |[GET https://paytm.com:443/shop/orderdetail/1118038018?actions=1&channel=web&version=2 HTTP/1.1, GET https://paytm.com:443/shop/orderhistory?pagesize=10&channel=web&version=2 HTTP/1.1, GET https://paytm.com:443/checkout HTTP/1.1, GET https://paytm.com:443/shop/cart/checkout?channel=web&version=2 HTTP/1.1, GET https://paytm.com:443/papi/nps/merchantrating?merchant_id=50996&channel=web&version=2 HTTP/1.1, POST https://paytm.com:443/papi/nps/merchantverification HTTP/1.1, GET https://paytm.com:443/shop/wallet/balance?channel=web&version=2 HTTP/1.1, GET https://paytm.com:443/shop/cart?channel=web&version=2 HTTP/1.1, GET https://paytm.com:443/shop/cart?channel=web&version=2 HTTP/1.1, GET https://paytm.com:443/papi/nps/merchantrating?merchant_id=50996&channel=web&version=2 HTTP/1.1, GET https://paytm.com:443/shop/summary/1118077505 HTTP/1.1, GET https://paytm.com:443/shop/user/address?channel=web&version=2 HTTP/1.1, GET https://paytm.com:443/shop/orderhistory?pagesize=10&channel=web&version=2 HTTP/1.1, GET https://paytm.com:443/shop/v1/frequentorders?channel=web&version=2 HTTP/1.1, GET https://paytm.com:443/papi/nps/merchantrating?merchant_id=50996&channel=web&version=2 HTTP/1.1, POST https://paytm.com:443/papi/nps/merchantverification HTTP/1.1, GET https://paytm.com:443/shop/p/peter-england-blue-cotton-casual-shirt-size-42-APPPETER-ENGLANTREN50996C23A4702 HTTP/1.1, GET https://paytm.com:443/shop/p/peter-england-blue-cotton-casual-shirt-size-39-APPPETER-ENGLANTREN50996B744CC3B HTTP/1.1, GET https://paytm.com:443/papi/nps/merchantrating?merchant_id=50996&channel=web&version=2 HTTP/1.1, GET https://paytm.com:443/papi/rr/products/12046555/statistics?channel=web&version=2 HTTP/1.1, GET https://paytm.com:443/shop/cart?channel=web&version=2 HTTP/1.1, GET https://paytm.com:443/papi/v1/promosearch/product/12028467/offers?parent_id=12048828&price=750&channel=web&version=2 HTTP/1.1, POST https://paytm.com:443/shop/cart HTTP/1.1, GET https://paytm.com:443/papi/rr/products/12036912/statistics?channel=web&version=2 HTTP/1.1, GET https://paytm.com:443/shop/cart?channel=web&version=2 HTTP/1.1, GET https://paytm.com:443/shop/p/peter-england-purple-cotton-formal-shirt-size-40-APPPETER-ENGLANTREN5099630D0FFBE HTTP/1.1, GET https://paytm.com:443/shop/cart?channel=web&version=2 HTTP/1.1, GET https://paytm.com:443/papi/rr/products/12041773/statistics?channel=web&version=2 HTTP/1.1, GET https://paytm.com:443/papi/rr/products/12028467/statistics?channel=web&version=2 HTTP/1.1, GET https://paytm.com:443/shop/orderdetail/1118077505?channel=web&version=2 HTTP/1.1, GET https://paytm.com:443/papi/nps/merchantrating?merchant_id=50996&channel=web&version=2 HTTP/1.1, GET https://paytm.com:443/shop/orderdetail/1118038018?actions=1&channel=web&version=2 HTTP/1.1, POST https://paytm.com:443/shop/cart HTTP/1.1, POST https://paytm.com:443/papi/nps/merchantverification HTTP/1.1]|[2015-07-22 18:02:22.965, 2015-07-22 18:02:58.213, 2015-07-22 18:03:24.48, 2015-07-22 18:04:04.351, 2015-07-22 18:04:56.221, 2015-07-22 18:05:06.455, 2015-07-22 18:05:09.331, 2015-07-22 18:05:57.894, 2015-07-22 18:06:37.328, 2015-07-22 18:06:43.391, 2015-07-22 18:07:18.238, 2015-07-22 18:07:19.728, 2015-07-22 18:07:29.947, 2015-07-22 18:09:41.591, 2015-07-22 18:09:52.169, 2015-07-22 18:10:04.209, 2015-07-22 18:10:08.386, 2015-07-22 18:11:01.038, 2015-07-22 18:11:07.323, 2015-07-22 18:11:14.605, 2015-07-22 18:11:16.017, 2015-07-22 18:11:35.53, 2015-07-22 18:11:52.872, 2015-07-22 18:12:29.495, 2015-07-22 18:12:29.74, 2015-07-22 18:12:56.792, 2015-07-22 18:12:59.995, 2015-07-22 18:13:39.882, 2015-07-22 18:13:48.036, 2015-07-22 18:14:06.751, 2015-07-22 18:14:43.781, 2015-07-22 18:15:14.445, 2015-07-22 18:16:42.378, 2015-07-22 18:17:37.063]|34             |\n",
            "|1.22.120.162:55952_Mozilla/5.0 (Windows NT 6.3; WOW64) AppleWebKit/537.36 (KHTML, like Gecko) Chrome/44.0.2403.89 Safari/537.36                                          |[GET https://paytm.com:443/shop/cart?channel=web&version=2 HTTP/1.1]                                                                                                                                                                                                                                                                                                                                                                                                                                                                                                                                                                                                                                                                                                                                                                                                                                                                                                                                                                                                                                                                                                                                                                                                                                                                                                                                                                                                                                                                                                                                                                                                                                                                                                                                                                                                                                                                                                                                                                                                                                                                                                                                                                                                                                                                                                                                                                                                                                                                                                                                                                                                                                                                                                                                                                                                                                                                                                                                    |[2015-07-22 16:47:08.257]                                                                                                                                                                                                                                                                                                                                                                                                                                                                                                                                                                                                                                                                                                                                                                                                                                                      |1              |\n",
            "|1.22.191.55:3632_Mozilla/5.0 (Windows NT 5.1) AppleWebKit/537.36 (KHTML, like Gecko) Chrome/43.0.2357.134 Safari/537.36                                                  |[GET https://paytm.com:443/papi/nps/merchantrating?merchant_id=36058&channel=web&version=2 HTTP/1.1]                                                                                                                                                                                                                                                                                                                                                                                                                                                                                                                                                                                                                                                                                                                                                                                                                                                                                                                                                                                                                                                                                                                                                                                                                                                                                                                                                                                                                                                                                                                                                                                                                                                                                                                                                                                                                                                                                                                                                                                                                                                                                                                                                                                                                                                                                                                                                                                                                                                                                                                                                                                                                                                                                                                                                                                                                                                                                                    |[2015-07-22 16:31:25.33]                                                                                                                                                                                                                                                                                                                                                                                                                                                                                                                                                                                                                                                                                                                                                                                                                                                       |1              |\n",
            "|1.22.3.111:41880_Mozilla/5.0 (Linux; Android 5.0.2; HTC_PN071 Build/LRX22G) AppleWebKit/537.36 (KHTML, like Gecko) Version/4.0 Chrome/33.0.0.0 Mobile Safari/537.36      |[GET https://paytm.com:443/papi/v1/promosearch/product/334226/offers?parent_id=335783 HTTP/1.1]                                                                                                                                                                                                                                                                                                                                                                                                                                                                                                                                                                                                                                                                                                                                                                                                                                                                                                                                                                                                                                                                                                                                                                                                                                                                                                                                                                                                                                                                                                                                                                                                                                                                                                                                                                                                                                                                                                                                                                                                                                                                                                                                                                                                                                                                                                                                                                                                                                                                                                                                                                                                                                                                                                                                                                                                                                                                                                         |[2015-07-22 17:57:32.304]                                                                                                                                                                                                                                                                                                                                                                                                                                                                                                                                                                                                                                                                                                                                                                                                                                                      |1              |\n",
            "|1.22.70.211:26810_Mozilla/5.0 (Windows NT 5.1) AppleWebKit/537.36 (KHTML, like Gecko) Chrome/43.0.2357.134 Safari/537.36                                                 |[GET https://paytm.com:443/papi/nps/merchantrating?merchant_id=28347&channel=web&version=2 HTTP/1.1, GET https://paytm.com:443/papi/v1/promosearch/product/288062/offers?parent_id=303025&price=141&channel=web&version=2 HTTP/1.1]                                                                                                                                                                                                                                                                                                                                                                                                                                                                                                                                                                                                                                                                                                                                                                                                                                                                                                                                                                                                                                                                                                                                                                                                                                                                                                                                                                                                                                                                                                                                                                                                                                                                                                                                                                                                                                                                                                                                                                                                                                                                                                                                                                                                                                                                                                                                                                                                                                                                                                                                                                                                                                                                                                                                                                     |[2015-07-22 16:28:34.452, 2015-07-22 16:36:52.097]                                                                                                                                                                                                                                                                                                                                                                                                                                                                                                                                                                                                                                                                                                                                                                                                                             |2              |\n",
            "|1.22.70.254:51991_Mozilla/5.0 (Windows NT 6.2; WOW64) AppleWebKit/537.36 (KHTML, like Gecko) Chrome/43.0.2357.134 Safari/537.36                                          |[GET https://paytm.com:443/offer/wp-content/plugins/wp-image-slider-with-lightbox/css/jquery.lbox.css?ver=4.2.2 HTTP/1.1, GET https://paytm.com:443/offer/wp-content/uploads/2015/06/GET50_17june.jpg HTTP/1.1, GET https://paytm.com:443/offer/wp-content/plugins/images-thumbnail-sliderv1/css/images-thumbnail-sliderv1-style.css?ver=4.2.2 HTTP/1.1, GET https://paytm.com:443/offer/wp-content/plugins/wp-social-sharing/static/socialshare.css?ver=1.3 HTTP/1.1, GET https://paytm.com:443/offer/wp-includes/js/jquery/ui/button.min.js?ver=1.11.4 HTTP/1.1, GET https://paytm.com:443/shop/cart?channel=web&version=2 HTTP/1.1, GET https://paytm.com:443/offer/wp-content/plugins/owl-carousel/js/script.js?ver=4.2.2 HTTP/1.1, GET https://paytm.com:443/offer/wp-content/plugins/wc-gallery/includes/css/magnific-popup.css?ver=0.9.9 HTTP/1.1, GET https://paytm.com:443/offer/wp-content/uploads/2015/01/bootstrap.min_.css HTTP/1.1, GET https://paytm.com:443/offer/wp-content/plugins/wp-responsive-slider-with-lightbox/images/vl-box/controls.png HTTP/1.1, GET https://paytm.com:443/offer/wp-content/plugins/wp-awesome-faq/jquery-ui.css?ver=4.2.2 HTTP/1.1, GET https://paytm.com:443/offer/wp-content/plugins/wp-social-sharing/static/socialshare.js?ver=1.3 HTTP/1.1, GET https://paytm.com:443/offer/wp-content/plugins/wonderplugin-carousel/engine/wonderplugincarousel.js?ver=3.8 HTTP/1.1]                                                                                                                                                                                                                                                                                                                                                                                                                                                                                                                                                                                                                                                                                                                                                                                                                                                                                                                                                                                                                                                                                                                                                                                                                                                                                                                                                                                                                                                                                                                                                                                 |[2015-07-22 10:51:30.101, 2015-07-22 10:51:56.311, 2015-07-22 10:52:43.601, 2015-07-22 10:52:49.401, 2015-07-22 10:54:32.644, 2015-07-22 10:54:44.802, 2015-07-22 10:57:31.108, 2015-07-22 10:59:36.403, 2015-07-22 11:01:43.048, 2015-07-22 11:03:34.622, 2015-07-22 11:03:58.288, 2015-07-22 11:05:03.201, 2015-07-22 11:05:27.7]                                                                                                                                                                                                                                                                                                                                                                                                                                                                                                                                            |13             |\n",
            "|1.22.96.190:49606_Mozilla/5.0 (Windows NT 6.1; WOW64) AppleWebKit/537.36 (KHTML, like Gecko) Chrome/43.0.2357.134 Safari/537.36                                          |[GET https://paytm.com:443/shop/h/electronics/computers-accessories?gclid=CLD6waLI7sYCFQaXvQod8HII8g HTTP/1.1, GET https://paytm.com:443/shop/cart?channel=web&version=2 HTTP/1.1, GET https://paytm.com:443/favicon.ico HTTP/1.1]                                                                                                                                                                                                                                                                                                                                                                                                                                                                                                                                                                                                                                                                                                                                                                                                                                                                                                                                                                                                                                                                                                                                                                                                                                                                                                                                                                                                                                                                                                                                                                                                                                                                                                                                                                                                                                                                                                                                                                                                                                                                                                                                                                                                                                                                                                                                                                                                                                                                                                                                                                                                                                                                                                                                                                      |[2015-07-22 10:51:45.571, 2015-07-22 11:04:07.43, 2015-07-22 11:04:57.016]                                                                                                                                                                                                                                                                                                                                                                                                                                                                                                                                                                                                                                                                                                                                                                                                     |3              |\n",
            "|1.23.103.224:49796_Mozilla/5.0 (Windows NT 6.3; WOW64) AppleWebKit/537.36 (KHTML, like Gecko) Chrome/43.0.2357.134 Safari/537.36                                         |[GET https://paytm.com:443/shop/cart?channel=web&version=2 HTTP/1.1]                                                                                                                                                                                                                                                                                                                                                                                                                                                                                                                                                                                                                                                                                                                                                                                                                                                                                                                                                                                                                                                                                                                                                                                                                                                                                                                                                                                                                                                                                                                                                                                                                                                                                                                                                                                                                                                                                                                                                                                                                                                                                                                                                                                                                                                                                                                                                                                                                                                                                                                                                                                                                                                                                                                                                                                                                                                                                                                                    |[2015-07-22 10:43:14.974]                                                                                                                                                                                                                                                                                                                                                                                                                                                                                                                                                                                                                                                                                                                                                                                                                                                      |1              |\n",
            "|1.23.105.203:55046_Mozilla/5.0 (Windows NT 6.2) AppleWebKit/537.36 (KHTML, like Gecko) Chrome/43.0.2357.134 Safari/537.36                                                |[GET https://paytm.com:443/emami HTTP/1.1, GET https://paytm.com:443/shop/cart?channel=web&version=2 HTTP/1.1, GET https://paytm.com:443/shop/cart?channel=web&version=2 HTTP/1.1]                                                                                                                                                                                                                                                                                                                                                                                                                                                                                                                                                                                                                                                                                                                                                                                                                                                                                                                                                                                                                                                                                                                                                                                                                                                                                                                                                                                                                                                                                                                                                                                                                                                                                                                                                                                                                                                                                                                                                                                                                                                                                                                                                                                                                                                                                                                                                                                                                                                                                                                                                                                                                                                                                                                                                                                                                      |[2015-07-22 16:26:52.965, 2015-07-22 16:30:07.631, 2015-07-22 16:30:20.271]                                                                                                                                                                                                                                                                                                                                                                                                                                                                                                                                                                                                                                                                                                                                                                                                    |3              |\n",
            "|1.23.174.7:51449_Mozilla/5.0 (Windows NT 6.3; WOW64) AppleWebKit/537.36 (KHTML, like Gecko) Chrome/43.0.2357.134 Safari/537.36                                           |[GET https://paytm.com:443/papi/v1/promosearch/product/6753723/offers?parent_id=2111153&price=2495&channel=web&version=2 HTTP/1.1]                                                                                                                                                                                                                                                                                                                                                                                                                                                                                                                                                                                                                                                                                                                                                                                                                                                                                                                                                                                                                                                                                                                                                                                                                                                                                                                                                                                                                                                                                                                                                                                                                                                                                                                                                                                                                                                                                                                                                                                                                                                                                                                                                                                                                                                                                                                                                                                                                                                                                                                                                                                                                                                                                                                                                                                                                                                                      |[2015-07-22 16:19:14.452]                                                                                                                                                                                                                                                                                                                                                                                                                                                                                                                                                                                                                                                                                                                                                                                                                                                      |1              |\n",
            "|1.23.208.95:27880_Mozilla/5.0 (Windows NT 6.1) AppleWebKit/537.36 (KHTML, like Gecko) Chrome/43.0.2357.134 Safari/537.36                                                 |[GET https://paytm.com:443/ HTTP/1.1]                                                                                                                                                                                                                                                                                                                                                                                                                                                                                                                                                                                                                                                                                                                                                                                                                                                                                                                                                                                                                                                                                                                                                                                                                                                                                                                                                                                                                                                                                                                                                                                                                                                                                                                                                                                                                                                                                                                                                                                                                                                                                                                                                                                                                                                                                                                                                                                                                                                                                                                                                                                                                                                                                                                                                                                                                                                                                                                                                                   |[2015-07-22 18:04:29.365]                                                                                                                                                                                                                                                                                                                                                                                                                                                                                                                                                                                                                                                                                                                                                                                                                                                      |1              |\n",
            "|1.23.232.125:12611_Mozilla/5.0 (Windows NT 6.2; WOW64; rv:39.0) Gecko/20100101 Firefox/39.0                                                                              |[GET https://paytm.com:443/shop/v1/frequentorders?channel=web&version=2 HTTP/1.1, GET https://paytm.com:443/ HTTP/1.1]                                                                                                                                                                                                                                                                                                                                                                                                                                                                                                                                                                                                                                                                                                                                                                                                                                                                                                                                                                                                                                                                                                                                                                                                                                                                                                                                                                                                                                                                                                                                                                                                                                                                                                                                                                                                                                                                                                                                                                                                                                                                                                                                                                                                                                                                                                                                                                                                                                                                                                                                                                                                                                                                                                                                                                                                                                                                                  |[2015-07-22 16:45:52.626, 2015-07-22 16:55:26.062]                                                                                                                                                                                                                                                                                                                                                                                                                                                                                                                                                                                                                                                                                                                                                                                                                             |2              |\n",
            "+-------------------------------------------------------------------------------------------------------------------------------------------------------------------------+--------------------------------------------------------------------------------------------------------------------------------------------------------------------------------------------------------------------------------------------------------------------------------------------------------------------------------------------------------------------------------------------------------------------------------------------------------------------------------------------------------------------------------------------------------------------------------------------------------------------------------------------------------------------------------------------------------------------------------------------------------------------------------------------------------------------------------------------------------------------------------------------------------------------------------------------------------------------------------------------------------------------------------------------------------------------------------------------------------------------------------------------------------------------------------------------------------------------------------------------------------------------------------------------------------------------------------------------------------------------------------------------------------------------------------------------------------------------------------------------------------------------------------------------------------------------------------------------------------------------------------------------------------------------------------------------------------------------------------------------------------------------------------------------------------------------------------------------------------------------------------------------------------------------------------------------------------------------------------------------------------------------------------------------------------------------------------------------------------------------------------------------------------------------------------------------------------------------------------------------------------------------------------------------------------------------------------------------------------------------------------------------------------------------------------------------------------------------------------------------------------------------------------------------------------------------------------------------------------------------------------------------------------------------------------------------------------------------------------------------------------------------------------------------------------------------------------------------------------------------------------------------------------------------------------------------------------------------------------------------------------+-------------------------------------------------------------------------------------------------------------------------------------------------------------------------------------------------------------------------------------------------------------------------------------------------------------------------------------------------------------------------------------------------------------------------------------------------------------------------------------------------------------------------------------------------------------------------------------------------------------------------------------------------------------------------------------------------------------------------------------------------------------------------------------------------------------------------------------------------------------------------------+---------------+\n",
            "only showing top 20 rows\n",
            "\n"
          ],
          "name": "stdout"
        }
      ]
    },
    {
      "cell_type": "markdown",
      "metadata": {
        "id": "oxTMeMiVU4Pt",
        "colab_type": "text"
      },
      "source": [
        "## **1. Sessionize the web log by IP. Sessionize = aggregrate all page hits by visitor/IP during a session**"
      ]
    },
    {
      "cell_type": "code",
      "metadata": {
        "id": "T5T9oUR-E9jA",
        "colab_type": "code",
        "colab": {}
      },
      "source": [
        "# Inactivity threshold is set to 15 minutes or 15*60*1000 milliseconds\n",
        "THRESHOLD = 15*60*1000\n",
        "    \n",
        "def sessionize_log(timestamp_list):\n",
        "  \"\"\"\n",
        "    This UDF function expects timestamp_list in increasing order of timestamps\n",
        "    for a specific visitor_id. A session becomes inactive after 15 minutes of \n",
        "    inactivity and thus any new request opens a new session. New session is \n",
        "    shown by increment old session_id by 1.\n",
        "\n",
        "    Arguments:\n",
        "        timestamp_list {list} -- list of timestamps in increasing order\n",
        "  \"\"\"\n",
        "  \n",
        "  last_active = timestamp_list[0]\n",
        "  session_id = 1\n",
        "  session_list = [session_id]\n",
        "  \n",
        "  # early exit for a visitor with only one timestamp\n",
        "  if len(timestamp_list) == 1:\n",
        "    return session_list\n",
        "\n",
        "  for timestamp in timestamp_list[1:]:\n",
        "    # if the (current timestamp - last recorded timestamp) < 15 mins then \n",
        "    # old session remains active\n",
        "    if timestamp < last_active + timedelta(milliseconds=THRESHOLD):\n",
        "      last_active = timestamp\n",
        "      session_list.append(session_id)\n",
        "    else:\n",
        "      last_active = timestamp\n",
        "      # increment session_id if old_session became inactive\n",
        "      session_id = session_id + 1\n",
        "      session_list.append(session_id)\n",
        "\n",
        "  return session_list\n",
        "\n",
        "sessionize_log_udf = udf(sessionize_log, types.ArrayType(types.IntegerType()))"
      ],
      "execution_count": 0,
      "outputs": []
    },
    {
      "cell_type": "code",
      "metadata": {
        "id": "zVx1flVPEwlA",
        "colab_type": "code",
        "colab": {}
      },
      "source": [
        "agg_sessionized_df = agg_timestamp_df.withColumn('session_id_list', \\\n",
        "                                          sessionize_log_udf('timestamp_list'))"
      ],
      "execution_count": 0,
      "outputs": []
    },
    {
      "cell_type": "code",
      "metadata": {
        "id": "tSTtk2IOacEV",
        "colab_type": "code",
        "outputId": "338c28dc-2aa2-4236-ec76-e167b541e4ba",
        "colab": {
          "base_uri": "https://localhost:8080/",
          "height": 459
        }
      },
      "source": [
        "agg_sessionized_df.show()"
      ],
      "execution_count": 13,
      "outputs": [
        {
          "output_type": "stream",
          "text": [
            "+--------------------+--------------------+--------------------+---------------+--------------------+\n",
            "|          visitor_id|        request_list|      timestamp_list|timestamp_count|     session_id_list|\n",
            "+--------------------+--------------------+--------------------+---------------+--------------------+\n",
            "|1.186.41.3:1650_M...|[GET https://payt...|[2015-07-22 16:15...|              5|     [1, 1, 1, 1, 1]|\n",
            "|1.186.41.45:50142...|[GET https://payt...|[2015-07-22 16:47...|              1|                 [1]|\n",
            "|1.186.79.11:50014...|[GET https://payt...|[2015-07-22 16:12...|              8|[1, 1, 1, 1, 1, 1...|\n",
            "|1.187.123.63:6076...|[GET https://payt...|[2015-07-22 07:10...|              1|                 [1]|\n",
            "|1.187.163.231:511...|[GET https://payt...|[2015-07-22 09:05...|              1|                 [1]|\n",
            "|1.187.209.36:5110...|[GET https://payt...|[2015-07-22 09:03...|             22|[1, 1, 1, 1, 1, 1...|\n",
            "|1.187.210.163:212...|[GET https://payt...|[2015-07-22 16:55...|              1|                 [1]|\n",
            "|1.187.239.249:478...|[GET http://paytm...|[2015-07-22 10:46...|              1|                 [1]|\n",
            "|1.22.112.17:26923...|[GET https://payt...|[2015-07-22 18:02...|             34|[1, 1, 1, 1, 1, 1...|\n",
            "|1.22.120.162:5595...|[GET https://payt...|[2015-07-22 16:47...|              1|                 [1]|\n",
            "|1.22.191.55:3632_...|[GET https://payt...|[2015-07-22 16:31...|              1|                 [1]|\n",
            "|1.22.3.111:41880_...|[GET https://payt...|[2015-07-22 17:57...|              1|                 [1]|\n",
            "|1.22.70.211:26810...|[GET https://payt...|[2015-07-22 16:28...|              2|              [1, 1]|\n",
            "|1.22.70.254:51991...|[GET https://payt...|[2015-07-22 10:51...|             13|[1, 1, 1, 1, 1, 1...|\n",
            "|1.22.96.190:49606...|[GET https://payt...|[2015-07-22 10:51...|              3|           [1, 1, 1]|\n",
            "|1.23.103.224:4979...|[GET https://payt...|[2015-07-22 10:43...|              1|                 [1]|\n",
            "|1.23.105.203:5504...|[GET https://payt...|[2015-07-22 16:26...|              3|           [1, 1, 1]|\n",
            "|1.23.174.7:51449_...|[GET https://payt...|[2015-07-22 16:19...|              1|                 [1]|\n",
            "|1.23.208.95:27880...|[GET https://payt...|[2015-07-22 18:04...|              1|                 [1]|\n",
            "|1.23.232.125:1261...|[GET https://payt...|[2015-07-22 16:45...|              2|              [1, 1]|\n",
            "+--------------------+--------------------+--------------------+---------------+--------------------+\n",
            "only showing top 20 rows\n",
            "\n"
          ],
          "name": "stdout"
        }
      ]
    },
    {
      "cell_type": "code",
      "metadata": {
        "id": "giCyPo-IWjwK",
        "colab_type": "code",
        "outputId": "50a9a0ec-d257-47a3-b41a-2bdc8d64dd0f",
        "colab": {
          "base_uri": "https://localhost:8080/",
          "height": 479
        }
      },
      "source": [
        "# exploding aggregated data\n",
        "sessionized_logs_df = (agg_sessionized_df\n",
        "                            .withColumn(\"tmp\", arrays_zip(\"request_list\", \\\n",
        "                                                          \"timestamp_list\", \\\n",
        "                                                          \"session_id_list\"))\n",
        "                            .withColumn(\"tmp\", explode(\"tmp\"))\n",
        "                            .select(\"visitor_id\", \\\n",
        "                                    \"timestamp_count\", \\\n",
        "                                    col(\"tmp.request_list\"), \\\n",
        "                                    col(\"tmp.timestamp_list\"), \\\n",
        "                                    col(\"tmp.session_id_list\")))\n",
        "\n",
        "# rename columns\n",
        "sessionized_logs_df = sessionized_logs_df  \\\n",
        "                            .withColumnRenamed(\"request_list\", \"request\")  \\\n",
        "                            .withColumnRenamed(\"timestamp_list\", \"timestamp\") \\\n",
        "                            .withColumnRenamed(\"session_id_list\", \"session_id\")\n",
        "\n",
        "sessionized_logs_df.show(truncate=False)\n",
        "sessionized_logs_df.createOrReplaceTempView(\"sessionized_logs_df\")"
      ],
      "execution_count": 14,
      "outputs": [
        {
          "output_type": "stream",
          "text": [
            "+-------------------------------------------------------------------------------------------------------------------------------------------------------------------------+---------------+---------------------------------------------------------------------------------------------------------------------------------+-----------------------+----------+\n",
            "|visitor_id                                                                                                                                                               |timestamp_count|request                                                                                                                          |timestamp              |session_id|\n",
            "+-------------------------------------------------------------------------------------------------------------------------------------------------------------------------+---------------+---------------------------------------------------------------------------------------------------------------------------------+-----------------------+----------+\n",
            "|1.186.41.3:1650_Mozilla/5.0 (Windows NT 6.1; WOW64) AppleWebKit/537.36 (KHTML, like Gecko) Chrome/43.0.2357.134 Safari/537.36                                            |5              |GET https://paytm.com:443/papi/v1/promosearch/product/16354295/offers?parent_id=16354296&price=699&channel=web&version=2 HTTP/1.1|2015-07-22 16:15:02.24 |1         |\n",
            "|1.186.41.3:1650_Mozilla/5.0 (Windows NT 6.1; WOW64) AppleWebKit/537.36 (KHTML, like Gecko) Chrome/43.0.2357.134 Safari/537.36                                            |5              |GET https://paytm.com:443/papi/rr/products/16354295/statistics?channel=web&version=2 HTTP/1.1                                    |2015-07-22 16:18:19.939|1         |\n",
            "|1.186.41.3:1650_Mozilla/5.0 (Windows NT 6.1; WOW64) AppleWebKit/537.36 (KHTML, like Gecko) Chrome/43.0.2357.134 Safari/537.36                                            |5              |GET https://paytm.com:443/papi/nps/merchantrating?merchant_id=55256&channel=web&version=2 HTTP/1.1                               |2015-07-22 16:24:08.342|1         |\n",
            "|1.186.41.3:1650_Mozilla/5.0 (Windows NT 6.1; WOW64) AppleWebKit/537.36 (KHTML, like Gecko) Chrome/43.0.2357.134 Safari/537.36                                            |5              |GET https://paytm.com:443/papi/rr/products/14095243/statistics?channel=web&version=2 HTTP/1.1                                    |2015-07-22 16:27:28.866|1         |\n",
            "|1.186.41.3:1650_Mozilla/5.0 (Windows NT 6.1; WOW64) AppleWebKit/537.36 (KHTML, like Gecko) Chrome/43.0.2357.134 Safari/537.36                                            |5              |GET https://paytm.com:443/papi/nps/merchantrating?merchant_id=51315&channel=web&version=2 HTTP/1.1                               |2015-07-22 16:28:19.124|1         |\n",
            "|1.186.41.45:50142_Mozilla/5.0 (compatible; MSIE 9.0; Windows NT 6.1; Trident/5.0)                                                                                        |1              |GET https://paytm.com:443/scripts/paytmAd.js HTTP/1.1                                                                            |2015-07-22 16:47:05.947|1         |\n",
            "|1.186.79.11:50014_Mozilla/5.0 (Windows NT 6.3; WOW64) AppleWebKit/537.36 (KHTML, like Gecko) Chrome/44.0.2403.89 Safari/537.36                                           |8              |GET https://paytm.com:443/offer/wp-includes/js/jquery/jquery.masonry.min.js?ver=3.1.2 HTTP/1.1                                   |2015-07-22 16:12:57.015|1         |\n",
            "|1.186.79.11:50014_Mozilla/5.0 (Windows NT 6.3; WOW64) AppleWebKit/537.36 (KHTML, like Gecko) Chrome/44.0.2403.89 Safari/537.36                                           |8              |GET https://paytm.com:443/offer/wp-content/plugins/wp-responsive-slider-with-lightbox/js/l-box-js.js?ver=4.2.2 HTTP/1.1          |2015-07-22 16:14:29.985|1         |\n",
            "|1.186.79.11:50014_Mozilla/5.0 (Windows NT 6.3; WOW64) AppleWebKit/537.36 (KHTML, like Gecko) Chrome/44.0.2403.89 Safari/537.36                                           |8              |GET https://paytm.com:443/offer/wp-includes/js/jquery/ui/resizable.min.js?ver=1.11.4 HTTP/1.1                                    |2015-07-22 16:17:30.064|1         |\n",
            "|1.186.79.11:50014_Mozilla/5.0 (Windows NT 6.3; WOW64) AppleWebKit/537.36 (KHTML, like Gecko) Chrome/44.0.2403.89 Safari/537.36                                           |8              |GET https://paytm.com:443/offer/wp-content/plugins/wp-social-sharing/static/socialshare.js?ver=1.3 HTTP/1.1                      |2015-07-22 16:18:49.133|1         |\n",
            "|1.186.79.11:50014_Mozilla/5.0 (Windows NT 6.3; WOW64) AppleWebKit/537.36 (KHTML, like Gecko) Chrome/44.0.2403.89 Safari/537.36                                           |8              |GET https://paytm.com:443/offer/wp-content/plugins/image-slider-responsive/css/flexslider.css?ver=4.2.2 HTTP/1.1                 |2015-07-22 16:18:57.714|1         |\n",
            "|1.186.79.11:50014_Mozilla/5.0 (Windows NT 6.3; WOW64) AppleWebKit/537.36 (KHTML, like Gecko) Chrome/44.0.2403.89 Safari/537.36                                           |8              |GET https://paytm.com:443/offer/wp-content/plugins/image-slider-responsive/js/jquery.flexslider-min.js?ver=4.2.2 HTTP/1.1        |2015-07-22 16:19:01.425|1         |\n",
            "|1.186.79.11:50014_Mozilla/5.0 (Windows NT 6.3; WOW64) AppleWebKit/537.36 (KHTML, like Gecko) Chrome/44.0.2403.89 Safari/537.36                                           |8              |GET https://paytm.com:443/offer/irctc/ HTTP/1.1                                                                                  |2015-07-22 16:25:53.234|1         |\n",
            "|1.186.79.11:50014_Mozilla/5.0 (Windows NT 6.3; WOW64) AppleWebKit/537.36 (KHTML, like Gecko) Chrome/44.0.2403.89 Safari/537.36                                           |8              |GET https://paytm.com:443/offer/wp-content/plugins/owl-carousel/js/script.js?ver=4.2.2 HTTP/1.1                                  |2015-07-22 16:28:05.441|1         |\n",
            "|1.187.123.63:60764_Mozilla/5.0 (Linux; Android 4.4.2; Micromax A311 Build/KOT49H) AppleWebKit/537.36 (KHTML, like Gecko) Version/4.0 Chrome/30.0.0.0 Mobile Safari/537.36|1              |GET https://paytm.com:443/favicon.ico HTTP/1.1                                                                                   |2015-07-22 07:10:46.094|1         |\n",
            "|1.187.163.231:5119_Mozilla/5.0 (Windows NT 6.0; WOW64) AppleWebKit/537.36 (KHTML, like Gecko) Chrome/43.0.2357.134 Safari/537.36                                         |1              |GET https://paytm.com:443/papi/nps/merchantrating?merchant_id=23206&channel=web&version=2 HTTP/1.1                               |2015-07-22 09:05:10.052|1         |\n",
            "|1.187.209.36:51108_Mozilla/5.0 (Windows NT 6.1) AppleWebKit/537.36 (KHTML, like Gecko) Chrome/43.0.2357.81 Safari/537.36                                                 |22             |GET https://paytm.com:443/shop/summary/1116226048 HTTP/1.1                                                                       |2015-07-22 09:03:17.232|1         |\n",
            "|1.187.209.36:51108_Mozilla/5.0 (Windows NT 6.1) AppleWebKit/537.36 (KHTML, like Gecko) Chrome/43.0.2357.81 Safari/537.36                                                 |22             |GET https://paytm.com:443/shop/wallet/balance?channel=web&version=2 HTTP/1.1                                                     |2015-07-22 09:03:19.76 |1         |\n",
            "|1.187.209.36:51108_Mozilla/5.0 (Windows NT 6.1) AppleWebKit/537.36 (KHTML, like Gecko) Chrome/43.0.2357.81 Safari/537.36                                                 |22             |GET https://paytm.com:443/shop/v1/frequentorders?channel=web&version=2 HTTP/1.1                                                  |2015-07-22 09:04:40.194|1         |\n",
            "|1.187.209.36:51108_Mozilla/5.0 (Windows NT 6.1) AppleWebKit/537.36 (KHTML, like Gecko) Chrome/43.0.2357.81 Safari/537.36                                                 |22             |POST https://paytm.com:443/shop/action HTTP/1.1                                                                                  |2015-07-22 09:05:02.119|1         |\n",
            "+-------------------------------------------------------------------------------------------------------------------------------------------------------------------------+---------------+---------------------------------------------------------------------------------------------------------------------------------+-----------------------+----------+\n",
            "only showing top 20 rows\n",
            "\n"
          ],
          "name": "stdout"
        }
      ]
    },
    {
      "cell_type": "markdown",
      "metadata": {
        "id": "kSW1RStsimUa",
        "colab_type": "text"
      },
      "source": [
        "# Validating Algorithm\n",
        "\n",
        "Checking session_id (number of sessions)\n",
        " for visitor_id = `'119.81.61.166:55875_Mozilla/5.0 (Macintosh; Intel Mac OS X 10_7_3) AppleWebKit/534.55.3 (KHTML, like Gecko) Version/5.1.3 Safari/534.53.10'`\n",
        "\n",
        "SESSION_THRESHOLD = 15 Minutes\n",
        "\n",
        " Please note - \n",
        "\n",
        "1.   After an inactivity of 15 minutes or more, currently active session ends\n",
        "2.   Any activity recorded after a period of inactivity is considered to be a new session"
      ]
    },
    {
      "cell_type": "code",
      "metadata": {
        "id": "Y8hIDD9n7Bum",
        "colab_type": "code",
        "outputId": "8d87c8f1-c7c4-499b-95c3-5311b67d76ee",
        "colab": {
          "base_uri": "https://localhost:8080/",
          "height": 391
        }
      },
      "source": [
        "# visitor_id = '119.81.61.166:55875_Mozilla/5.0 (Macintosh; Intel Mac OS X 10_7_3) AppleWebKit/534.55.3 (KHTML, like Gecko) Version/5.1.3 Safari/534.53.10'\n",
        "\n",
        "# using unprocessed log data\n",
        "non_sessionized_df = spark.sql(\"\"\"\n",
        "                      SELECT timestamp \n",
        "                      FROM derived_df \n",
        "                      WHERE visitor_id = '119.81.61.166:55875_Mozilla/5.0 (Macintosh; Intel Mac OS X 10_7_3) AppleWebKit/534.55.3 (KHTML, like Gecko) Version/5.1.3 Safari/534.53.10'\n",
        "                      \"\"\")\n",
        "\n",
        "non_sessionized_df.show(truncate=False)\n",
        "\n",
        "# using processed (sessionized) log data\n",
        "sessionized_df = spark.sql(\"\"\"\n",
        "                      SELECT timestamp, session_id \n",
        "                      FROM sessionized_logs_df \n",
        "                      WHERE visitor_id = '119.81.61.166:55875_Mozilla/5.0 (Macintosh; Intel Mac OS X 10_7_3) AppleWebKit/534.55.3 (KHTML, like Gecko) Version/5.1.3 Safari/534.53.10'\n",
        "                      \"\"\")\n",
        "\n",
        "sessionized_df.show(truncate=False)"
      ],
      "execution_count": 15,
      "outputs": [
        {
          "output_type": "stream",
          "text": [
            "+-----------------------+\n",
            "|timestamp              |\n",
            "+-----------------------+\n",
            "|2015-07-22 07:05:40.339|\n",
            "|2015-07-22 10:43:28.199|\n",
            "|2015-07-22 16:17:06.159|\n",
            "|2015-07-22 16:35:41.167|\n",
            "|2015-07-22 16:53:29.416|\n",
            "|2015-07-22 21:22:34.188|\n",
            "+-----------------------+\n",
            "\n",
            "+-----------------------+----------+\n",
            "|timestamp              |session_id|\n",
            "+-----------------------+----------+\n",
            "|2015-07-22 07:05:40.339|1         |\n",
            "|2015-07-22 10:43:28.199|2         |\n",
            "|2015-07-22 16:17:06.159|3         |\n",
            "|2015-07-22 16:35:41.167|4         |\n",
            "|2015-07-22 16:53:29.416|5         |\n",
            "|2015-07-22 21:22:34.188|6         |\n",
            "+-----------------------+----------+\n",
            "\n"
          ],
          "name": "stdout"
        }
      ]
    },
    {
      "cell_type": "markdown",
      "metadata": {
        "id": "2Xvy03FIU4c3",
        "colab_type": "text"
      },
      "source": [
        "## **2. Determine the average session time**"
      ]
    },
    {
      "cell_type": "markdown",
      "metadata": {
        "id": "xnrzGLk0Sb1Z",
        "colab_type": "text"
      },
      "source": [
        "* Average Session Time = Total Session Duration / Total Number of Sessions\n",
        "\n"
      ]
    },
    {
      "cell_type": "code",
      "metadata": {
        "id": "1VC45EQxqRlt",
        "colab_type": "code",
        "outputId": "da551357-e961-4ce2-922e-1fd3afa3ba40",
        "colab": {
          "base_uri": "https://localhost:8080/",
          "height": 119
        }
      },
      "source": [
        "total_number_of_sessions_df = spark.sql(\"\"\"\n",
        "              SELECT SUM(number_of_session_per_visitor) total_number_of_sessions \n",
        "              FROM \n",
        "                (\n",
        "                  SELECT visitor_id, \n",
        "                  MAX(session_id) number_of_session_per_visitor\n",
        "                  FROM sessionized_logs_df \n",
        "                  GROUP BY visitor_id\n",
        "                )\n",
        "              \"\"\")\n",
        "\n",
        "total_number_of_sessions_df.show()\n",
        "total_number_of_sessions_list = total_number_of_sessions_df \\\n",
        "                                      .select('*').collect()\n",
        "total_number_of_sessions = total_number_of_sessions_list[0] \\\n",
        "                                      .total_number_of_sessions"
      ],
      "execution_count": 16,
      "outputs": [
        {
          "output_type": "stream",
          "text": [
            "+------------------------+\n",
            "|total_number_of_sessions|\n",
            "+------------------------+\n",
            "|                  436525|\n",
            "+------------------------+\n",
            "\n"
          ],
          "name": "stdout"
        }
      ]
    },
    {
      "cell_type": "code",
      "metadata": {
        "id": "g5EHkzt1lfMM",
        "colab_type": "code",
        "outputId": "eb62d594-29e0-4117-e253-4ba0bddcd2d5",
        "colab": {
          "base_uri": "https://localhost:8080/",
          "height": 119
        }
      },
      "source": [
        "total_session_duration_df = spark.sql(\"\"\"\n",
        "              SELECT SUM(session_duration) total_session_duration\n",
        "              FROM\n",
        "                (\n",
        "                  SELECT visitor_id, session_id,\n",
        "                  MAX(timestamp) max_timestamp,\n",
        "                  MIN(timestamp) min_timestamp,                \n",
        "                  UNIX_TIMESTAMP(MAX(timestamp)) - UNIX_TIMESTAMP(MIN(timestamp))\n",
        "                  session_duration\n",
        "                  FROM sessionized_logs_df\n",
        "                  GROUP BY visitor_id, session_id\n",
        "                )\n",
        "              \"\"\")\n",
        "\n",
        "total_session_duration_df.show()\n",
        "total_session_duration_list = total_session_duration_df.select('*').collect()\n",
        "total_session_duration = total_session_duration_list[0].total_session_duration"
      ],
      "execution_count": 17,
      "outputs": [
        {
          "output_type": "stream",
          "text": [
            "+----------------------+\n",
            "|total_session_duration|\n",
            "+----------------------+\n",
            "|             310072597|\n",
            "+----------------------+\n",
            "\n"
          ],
          "name": "stdout"
        }
      ]
    },
    {
      "cell_type": "code",
      "metadata": {
        "id": "Y8Lly6VTwoCS",
        "colab_type": "code",
        "outputId": "e970fc1e-7a95-4ec0-b08f-c4c696f2339b",
        "colab": {
          "base_uri": "https://localhost:8080/",
          "height": 102
        }
      },
      "source": [
        "# average session time\n",
        "average_session_time = total_session_duration / total_number_of_sessions\n",
        "\n",
        "print(\"Average Session Time / A session on average lasted -\\n\")\n",
        "print(\"%s Seconds\\n\" % average_session_time)\n",
        "\n",
        "print(\"(When the timeout threshold was set to 15 Minutes = 900 Seconds)\")"
      ],
      "execution_count": 18,
      "outputs": [
        {
          "output_type": "stream",
          "text": [
            "Average Session Time / A session on average lasted -\n",
            "\n",
            "710 Seconds\n",
            "\n",
            "(When the timeout threshold was set to 15 Minutes = 900 Seconds)\n"
          ],
          "name": "stdout"
        }
      ]
    },
    {
      "cell_type": "markdown",
      "metadata": {
        "id": "RC2QJ2XTU4n4",
        "colab_type": "text"
      },
      "source": [
        "## **3. Determine unique URL visits per session. To clarify, count a hit to a unique URL only once per session**"
      ]
    },
    {
      "cell_type": "markdown",
      "metadata": {
        "id": "sr7zM4CKJ0QM",
        "colab_type": "text"
      },
      "source": [
        "**Most number of hits in a session were seen for following URL:**\n",
        "\n",
        "\n",
        "*   GET https://paytm.com:443/bus-tickets/search/Delhi/Katra/2015-07-31/1 HTTP/1.1 - 1946 hits\n",
        "\n",
        "\n",
        "\n",
        "\n"
      ]
    },
    {
      "cell_type": "code",
      "metadata": {
        "id": "nCUGcIuRlemM",
        "colab_type": "code",
        "outputId": "00873485-22ac-48fc-f41e-cd49e559e9c6",
        "colab": {
          "base_uri": "https://localhost:8080/",
          "height": 479
        }
      },
      "source": [
        "# unique URL visits per session *per visitor*\n",
        "\n",
        "unique_url_visit_per_session = spark.sql(\"\"\"\n",
        "                  SELECT visitor_id, session_id, request, \n",
        "                  COUNT(request) number_of_request\n",
        "                  FROM sessionized_logs_df\n",
        "                  GROUP BY visitor_id, session_id, request\n",
        "                  ORDER BY number_of_request DESC\n",
        "                  \"\"\")\n",
        "\n",
        "unique_url_visit_per_session.show(truncate=False)"
      ],
      "execution_count": 19,
      "outputs": [
        {
          "output_type": "stream",
          "text": [
            "+--------------------------------------------------------------------------------------------------------------------------------------+----------+------------------------------------------------------------------------------+-----------------+\n",
            "|visitor_id                                                                                                                            |session_id|request                                                                       |number_of_request|\n",
            "+--------------------------------------------------------------------------------------------------------------------------------------+----------+------------------------------------------------------------------------------+-----------------+\n",
            "|112.196.25.164:55986_Mozilla/5.0 (X11; U; Linux i686; en-US; rv:1.9.2.28) Gecko/20120313 Thunderbird/3.1.20                           |1         |GET https://paytm.com:443/bus-tickets/search/Delhi/Katra/2015-07-31/1 HTTP/1.1|1946             |\n",
            "|112.196.25.164:42792_Mozilla/5.0 (X11; U; Linux i686; en-US; rv:1.9.2.28) Gecko/20120313 Thunderbird/3.1.20                           |1         |GET https://paytm.com:443/bus-tickets/search/Delhi/Katra/2015-07-31/1 HTTP/1.1|1752             |\n",
            "|112.196.25.164:37516_Mozilla/5.0 (X11; U; Linux i686; en-US; rv:1.9.2.28) Gecko/20120313 Thunderbird/3.1.20                           |1         |GET https://paytm.com:443/bus-tickets/search/Delhi/Katra/2015-07-31/1 HTTP/1.1|1429             |\n",
            "|54.169.191.85:15462_-                                                                                                                 |1         |GET https://paytm.com:443/recharges/547cafb3e4b04b7046227e74 HTTP/1.1         |314              |\n",
            "|14.102.53.58:4637_Mozilla/5.0 (Windows NT 5.1) AppleWebKit/537.36 (KHTML, like Gecko) Chrome/43.0.2357.130 Safari/537.36              |1         |POST https://paytm.com:443/shop/cart HTTP/1.1                                 |269              |\n",
            "|54.169.191.85:3328_-                                                                                                                  |4         |GET https://paytm.com:443/recharges/548ff413e4b0701ed6a04222 HTTP/1.1         |238              |\n",
            "|118.102.239.85:44128_Mozilla/5.0 (Windows NT 6.1; WOW64) AppleWebKit/537.36 (KHTML, like Gecko) Chrome/43.0.2357.134 Safari/537.36    |1         |POST https://paytm.com:443/shop/cart HTTP/1.1                                 |237              |\n",
            "|116.203.74.167:4161_Mozilla/5.0 (Windows NT 6.3; Win64; x64) AppleWebKit/537.36 (KHTML, like Gecko) Chrome/43.0.2357.134 Safari/537.36|1         |POST https://paytm.com:443/shop/cart HTTP/1.1                                 |228              |\n",
            "|103.243.114.106:61389_Mozilla/5.0 (Windows NT 6.3; WOW64) AppleWebKit/537.36 (KHTML, like Gecko) Chrome/43.0.2357.134 Safari/537.36   |1         |POST https://paytm.com:443/shop/cart HTTP/1.1                                 |217              |\n",
            "|54.169.191.85:15462_-                                                                                                                 |2         |GET https://paytm.com:443/recharges/547cafb3e4b04b7046227e74 HTTP/1.1         |214              |\n",
            "|103.249.240.51:27416_Mozilla/5.0 (Windows NT 6.3; WOW64) AppleWebKit/537.36 (KHTML, like Gecko) Chrome/43.0.2357.134 Safari/537.36    |1         |POST https://paytm.com:443/shop/cart HTTP/1.1                                 |189              |\n",
            "|106.51.132.54:5048_Mozilla/5.0 (compatible; MSIE 9.0; Windows NT 6.1; WOW64; Trident/5.0)                                             |1         |POST https://paytm.com:443/security HTTP/1.1                                  |157              |\n",
            "|106.51.132.54:4219_Mozilla/5.0 (compatible; MSIE 9.0; Windows NT 6.1; WOW64; Trident/5.0)                                             |1         |POST https://paytm.com:443/security HTTP/1.1                                  |157              |\n",
            "|106.51.132.54:4489_Mozilla/5.0 (compatible; MSIE 9.0; Windows NT 6.1; WOW64; Trident/5.0)                                             |1         |POST https://paytm.com:443/security HTTP/1.1                                  |152              |\n",
            "|106.51.132.54:4508_Mozilla/5.0 (compatible; MSIE 9.0; Windows NT 6.1; WOW64; Trident/5.0)                                             |1         |POST https://paytm.com:443/security HTTP/1.1                                  |151              |\n",
            "|106.51.132.54:4221_Mozilla/5.0 (compatible; MSIE 9.0; Windows NT 6.1; WOW64; Trident/5.0)                                             |1         |POST https://paytm.com:443/security HTTP/1.1                                  |147              |\n",
            "|43.224.129.57:51641_Mozilla/5.0 (Windows NT 6.1; WOW64) AppleWebKit/537.36 (KHTML, like Gecko) Chrome/43.0.2357.134 Safari/537.36     |1         |POST https://paytm.com:443/shop/cart HTTP/1.1                                 |146              |\n",
            "|106.51.132.54:4239_Mozilla/5.0 (compatible; MSIE 9.0; Windows NT 6.1; WOW64; Trident/5.0)                                             |1         |POST https://paytm.com:443/security HTTP/1.1                                  |135              |\n",
            "|106.51.132.54:4212_Mozilla/5.0 (compatible; MSIE 9.0; Windows NT 6.1; WOW64; Trident/5.0)                                             |1         |POST https://paytm.com:443/security HTTP/1.1                                  |133              |\n",
            "|106.51.132.54:4216_Mozilla/5.0 (compatible; MSIE 9.0; Windows NT 6.1; WOW64; Trident/5.0)                                             |1         |POST https://paytm.com:443/security HTTP/1.1                                  |132              |\n",
            "+--------------------------------------------------------------------------------------------------------------------------------------+----------+------------------------------------------------------------------------------+-----------------+\n",
            "only showing top 20 rows\n",
            "\n"
          ],
          "name": "stdout"
        }
      ]
    },
    {
      "cell_type": "markdown",
      "metadata": {
        "id": "jHXmLrPCVQQJ",
        "colab_type": "text"
      },
      "source": [
        "## **4. Find the most engaged users, ie the IPs with the longest session times**"
      ]
    },
    {
      "cell_type": "markdown",
      "metadata": {
        "colab_type": "text",
        "id": "FgU5ET4NK2t6"
      },
      "source": [
        "**Most engaged user with the longest session times was:**\n",
        "\n",
        "\n",
        "- **Visitor / User ID -** 119.81.61.166:36205_Mozilla/5.0 (Macintosh; Intel Mac OS X 10_7_3) AppleWebKit/534.55.3 (KHTML, like Gecko) Version/5.1.3 Safari/534.53.10\n",
        "\n",
        "- **Session Duration -** 67414 seconds\n",
        "\n",
        "\n",
        "\n",
        "\n",
        "\n"
      ]
    },
    {
      "cell_type": "code",
      "metadata": {
        "id": "VDVPR33hVR9c",
        "colab_type": "code",
        "outputId": "5a96ec1a-b4ac-4990-cebb-8e8274dbadfa",
        "colab": {
          "base_uri": "https://localhost:8080/",
          "height": 479
        }
      },
      "source": [
        "# longest session times\n",
        "most_engaged_users = spark.sql(\"\"\"\n",
        "                  SELECT visitor_id, session_id,\n",
        "                  MAX(timestamp) max_timestamp,\n",
        "                  MIN(timestamp) min_timestamp,                \n",
        "                  UNIX_TIMESTAMP(MAX(timestamp)) - UNIX_TIMESTAMP(MIN(timestamp))\n",
        "                  session_duration\n",
        "                  FROM sessionized_logs_df\n",
        "                  GROUP BY visitor_id, session_id\n",
        "                  ORDER BY session_duration DESC\n",
        "              \"\"\")\n",
        "\n",
        "most_engaged_users.show(truncate=False)"
      ],
      "execution_count": 20,
      "outputs": [
        {
          "output_type": "stream",
          "text": [
            "+------------------------------------------------------------------------------------------------------------------------------------------+----------+-----------------------+-----------------------+----------------+\n",
            "|visitor_id                                                                                                                                |session_id|max_timestamp          |min_timestamp          |session_duration|\n",
            "+------------------------------------------------------------------------------------------------------------------------------------------+----------+-----------------------+-----------------------+----------------+\n",
            "|119.81.61.166:36205_Mozilla/5.0 (Macintosh; Intel Mac OS X 10_7_3) AppleWebKit/534.55.3 (KHTML, like Gecko) Version/5.1.3 Safari/534.53.10|1         |2015-07-22 21:25:43.163|2015-07-22 02:42:09.879|67414           |\n",
            "|106.186.23.95:42887_-                                                                                                                     |1         |2015-07-22 21:26:50.395|2015-07-22 02:44:22.436|67348           |\n",
            "|119.81.61.166:36946_Mozilla/5.0 (Macintosh; Intel Mac OS X 10_7_3) AppleWebKit/534.55.3 (KHTML, like Gecko) Version/5.1.3 Safari/534.53.10|2         |2015-07-22 21:25:26.117|2015-07-22 02:43:50.386|67296           |\n",
            "|119.81.61.166:34305_Mozilla/5.0 (Macintosh; Intel Mac OS X 10_7_3) AppleWebKit/534.55.3 (KHTML, like Gecko) Version/5.1.3 Safari/534.53.10|3         |2015-07-22 21:25:03.118|2015-07-22 02:43:43.203|67280           |\n",
            "|119.81.61.166:32843_Mozilla/5.0 (Macintosh; Intel Mac OS X 10_7_3) AppleWebKit/534.55.3 (KHTML, like Gecko) Version/5.1.3 Safari/534.53.10|3         |2015-07-22 21:23:19.158|2015-07-22 02:42:04.064|67275           |\n",
            "|52.74.219.71:53717_-                                                                                                                      |1         |2015-07-22 21:24:19.198|2015-07-22 02:43:43.171|67236           |\n",
            "|52.74.219.71:53712_Mozilla/5.0 (compatible; Googlebot/2.1; +http://www.google.com/bot.html)                                               |1         |2015-07-22 21:23:10.727|2015-07-22 02:42:45.368|67225           |\n",
            "|106.186.23.95:42552_-                                                                                                                     |1         |2015-07-22 21:23:22.366|2015-07-22 02:43:28.104|67194           |\n",
            "|106.186.23.95:43478_-                                                                                                                     |1         |2015-07-22 21:23:46.317|2015-07-22 02:43:55.179|67191           |\n",
            "|52.74.219.71:34288_-                                                                                                                      |2         |2015-07-22 21:22:28.18 |2015-07-22 02:42:43.168|67185           |\n",
            "|106.186.23.95:42091_-                                                                                                                     |1         |2015-07-22 21:23:44.899|2015-07-22 02:44:02.184|67182           |\n",
            "|119.81.61.166:45705_Mozilla/5.0 (Macintosh; Intel Mac OS X 10_7_3) AppleWebKit/534.55.3 (KHTML, like Gecko) Version/5.1.3 Safari/534.53.10|4         |2015-07-22 21:22:17.181|2015-07-22 02:42:42.146|67175           |\n",
            "|119.81.61.166:52301_Mozilla/5.0 (Macintosh; Intel Mac OS X 10_7_3) AppleWebKit/534.55.3 (KHTML, like Gecko) Version/5.1.3 Safari/534.53.10|1         |2015-07-22 21:21:59.359|2015-07-22 02:42:30.145|67169           |\n",
            "|106.186.23.95:40411_-                                                                                                                     |2         |2015-07-22 21:25:17.363|2015-07-22 02:45:49.658|67168           |\n",
            "|106.186.23.95:39198_-                                                                                                                     |2         |2015-07-22 21:21:54.389|2015-07-22 02:42:50.255|67144           |\n",
            "|52.74.219.71:49603_-                                                                                                                      |1         |2015-07-22 21:20:15.576|2015-07-22 02:41:11.177|67144           |\n",
            "|106.186.23.95:43467_-                                                                                                                     |2         |2015-07-22 21:21:51.291|2015-07-22 02:42:53.601|67138           |\n",
            "|119.81.61.166:42134_Mozilla/5.0 (Macintosh; Intel Mac OS X 10_7_3) AppleWebKit/534.55.3 (KHTML, like Gecko) Version/5.1.3 Safari/534.53.10|2         |2015-07-22 21:21:56.678|2015-07-22 02:43:04.943|67132           |\n",
            "|119.81.61.166:45191_Mozilla/5.0 (Macintosh; Intel Mac OS X 10_7_3) AppleWebKit/534.55.3 (KHTML, like Gecko) Version/5.1.3 Safari/534.53.10|1         |2015-07-22 21:22:27.149|2015-07-22 02:43:43.685|67124           |\n",
            "|119.81.61.166:49876_Mozilla/5.0 (Macintosh; Intel Mac OS X 10_7_3) AppleWebKit/534.55.3 (KHTML, like Gecko) Version/5.1.3 Safari/534.53.10|3         |2015-07-22 21:22:04.773|2015-07-22 02:43:30.106|67114           |\n",
            "+------------------------------------------------------------------------------------------------------------------------------------------+----------+-----------------------+-----------------------+----------------+\n",
            "only showing top 20 rows\n",
            "\n"
          ],
          "name": "stdout"
        }
      ]
    }
  ]
}